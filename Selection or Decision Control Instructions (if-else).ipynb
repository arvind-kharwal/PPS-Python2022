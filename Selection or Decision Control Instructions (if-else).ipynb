{
 "cells": [
  {
   "cell_type": "markdown",
   "id": "6c48ab24",
   "metadata": {},
   "source": [
    "# Relational Operator"
   ]
  },
  {
   "cell_type": "code",
   "execution_count": null,
   "id": "63a33cc5",
   "metadata": {},
   "outputs": [],
   "source": [
    "<\n",
    ">\n",
    "<=\n",
    ">=\n",
    "==\n",
    "!="
   ]
  },
  {
   "cell_type": "markdown",
   "id": "baffbd82",
   "metadata": {},
   "source": [
    "# if statement"
   ]
  },
  {
   "cell_type": "markdown",
   "id": "fcb94234",
   "metadata": {},
   "source": [
    "# Absolute Value of a given number"
   ]
  },
  {
   "cell_type": "code",
   "execution_count": 1,
   "id": "f3e45b64",
   "metadata": {},
   "outputs": [
    {
     "name": "stdout",
     "output_type": "stream",
     "text": [
      "Enter the number: -9\n",
      "The absolute value is: 9\n"
     ]
    }
   ],
   "source": [
    "n = int(input('Enter the number: '))\n",
    "if n<0:\n",
    "    n=n*-1\n",
    "print('The absolute value is:',n)"
   ]
  },
  {
   "cell_type": "markdown",
   "id": "4ab9b42b",
   "metadata": {},
   "source": [
    "# Single Suite"
   ]
  },
  {
   "cell_type": "code",
   "execution_count": 2,
   "id": "4d7c55e9",
   "metadata": {},
   "outputs": [
    {
     "name": "stdout",
     "output_type": "stream",
     "text": [
      "Enter the number: 2\n",
      "Hello\n"
     ]
    }
   ],
   "source": [
    "n = int(input('Enter the number: '))\n",
    "if n<5: print(\"Hello\")"
   ]
  },
  {
   "cell_type": "markdown",
   "id": "4ce90266",
   "metadata": {},
   "source": [
    "# if-else statement"
   ]
  },
  {
   "cell_type": "markdown",
   "id": "6cb20d4c",
   "metadata": {},
   "source": [
    "# Write a Python program to find whether a given number (accept from the user) is even or odd."
   ]
  },
  {
   "cell_type": "code",
   "execution_count": null,
   "id": "9d6f937e",
   "metadata": {},
   "outputs": [],
   "source": [
    "n = int(input('Enter the number: '))\n",
    "if n%2==0:\n",
    "    print(\"Even Number\")\n",
    "else:\n",
    "    print(\"Odd Number Number\")"
   ]
  },
  {
   "cell_type": "markdown",
   "id": "1b575a50",
   "metadata": {},
   "source": [
    "# If cost price and selling price of an item is input through the keyboard, write a program to determine whether the seller has made profit or incurred loss. Also determine how much profit he made or loss he incurred."
   ]
  },
  {
   "cell_type": "code",
   "execution_count": 3,
   "id": "e56e9065",
   "metadata": {},
   "outputs": [
    {
     "name": "stdout",
     "output_type": "stream",
     "text": [
      "Enter cost price: 100\n",
      "Enter selling price: 50\n",
      "Seller incurred loss:  50\n"
     ]
    }
   ],
   "source": [
    "cp  = int(input('Enter cost price: '))\n",
    "sp = int(input('Enter selling price: '))\n",
    "p = sp-cp\n",
    "l = cp-sp\n",
    "if p>0:\n",
    "    print('Seller made profit of',p)\n",
    "else:\n",
    "    print('Seller incurred loss: ',l)"
   ]
  },
  {
   "cell_type": "markdown",
   "id": "1e33d77e",
   "metadata": {},
   "source": [
    "# Any year is input through the keyboard. Write a program to determine whether the year is a leap year or not."
   ]
  },
  {
   "cell_type": "code",
   "execution_count": 4,
   "id": "9e1fc27c",
   "metadata": {},
   "outputs": [
    {
     "name": "stdout",
     "output_type": "stream",
     "text": [
      "Enter the year: 1900\n",
      "Not leap year\n"
     ]
    }
   ],
   "source": [
    "y = int(input('Enter the year: '))\n",
    "if y%100==0:\n",
    "    if y%400==0:\n",
    "        print('Leap Year')\n",
    "    else:\n",
    "        print('Not leap year')\n",
    "else:\n",
    "    if y%4==0:\n",
    "        print('Leap Year')\n",
    "    else:\n",
    "        print('Not Leap Year')"
   ]
  },
  {
   "cell_type": "markdown",
   "id": "0d5ca01f",
   "metadata": {},
   "source": [
    "# Write a program to check whether a triangle is valid or not, when the three angles of the triangle are entered through the keyboard. A triangle is valid if the sum of all the three angles is equal to 180 degrees."
   ]
  },
  {
   "cell_type": "code",
   "execution_count": 5,
   "id": "7eb2e2b5",
   "metadata": {},
   "outputs": [
    {
     "name": "stdout",
     "output_type": "stream",
     "text": [
      "Enter the first angle: 100\n",
      "Enter the second angle: 45\n",
      "Enter the third angle: 65\n",
      "Invalid\n"
     ]
    }
   ],
   "source": [
    "a1 = int(input('Enter the first angle: '))\n",
    "a2 = int(input('Enter the second angle: '))\n",
    "a3 = int(input('Enter the third angle: '))\n",
    "s = a1+a2+a3\n",
    "if s==180:\n",
    "    print('Valid')\n",
    "else:\n",
    "    print('Invalid')"
   ]
  },
  {
   "cell_type": "markdown",
   "id": "b0bc2e9b",
   "metadata": {},
   "source": [
    "# Given three points (x1, y1), (x2, y2) and (x3, y3), write a program to check if all the three points fall on one straight line."
   ]
  },
  {
   "cell_type": "code",
   "execution_count": null,
   "id": "821744ee",
   "metadata": {},
   "outputs": [],
   "source": [
    "x1 = int(input('x1:'))\n",
    "y1 = int(input('y1:'))\n",
    "x2 = int(input('x2:'))\n",
    "y2 = int(input('y2:'))\n",
    "x3 = int(input('x3:'))\n",
    "y3 = int(input('y3:'))\n",
    "m = (y2-y1)/(x2-x1)\n",
    "n = (y3-y2)/(x3-x2)\n",
    "if m==n:\n",
    "    print('falls on straight line')\n",
    "else:\n",
    "    print('Not')"
   ]
  },
  {
   "cell_type": "markdown",
   "id": "6b29dc6a",
   "metadata": {},
   "source": [
    "# Logical Operators:"
   ]
  },
  {
   "cell_type": "code",
   "execution_count": null,
   "id": "74cd95f4",
   "metadata": {},
   "outputs": [],
   "source": [
    "1. and\n",
    "2. or\n",
    "3. not "
   ]
  },
  {
   "cell_type": "code",
   "execution_count": 6,
   "id": "7dac052e",
   "metadata": {},
   "outputs": [
    {
     "name": "stdout",
     "output_type": "stream",
     "text": [
      "Hello\n"
     ]
    }
   ],
   "source": [
    "a = 1\n",
    "b = 0\n",
    "if not a:\n",
    "    print('True')\n",
    "else:\n",
    "    print('Hello')"
   ]
  },
  {
   "cell_type": "markdown",
   "id": "5e4dad34",
   "metadata": {},
   "source": [
    "# Program to find the smallest element among three numbers."
   ]
  },
  {
   "cell_type": "code",
   "execution_count": 7,
   "id": "b307bed1",
   "metadata": {},
   "outputs": [
    {
     "name": "stdout",
     "output_type": "stream",
     "text": [
      "First Number: 12\n",
      "Second Number: 19\n",
      "Third Number: 10\n",
      "smallest is 10\n"
     ]
    }
   ],
   "source": [
    "n1 = int(input('First Number: '))\n",
    "n2 = int(input('Second Number: '))\n",
    "n3 = int(input('Third Number: '))\n",
    "if n1<n2 and n1<n3:\n",
    "    print('smallest is',n1)\n",
    "elif n2<n1 and n2<n3:\n",
    "    print('smallest is',n2)\n",
    "else:\n",
    "    print('smallest is',n3)"
   ]
  },
  {
   "cell_type": "markdown",
   "id": "d74109a5",
   "metadata": {},
   "source": [
    "# Any year is input through the keyboard. Write a program to determine whether the year is a leap year or not using logical operators."
   ]
  },
  {
   "cell_type": "code",
   "execution_count": 8,
   "id": "e18c5328",
   "metadata": {},
   "outputs": [
    {
     "name": "stdout",
     "output_type": "stream",
     "text": [
      "Enter the year: 2022\n",
      "not leap\n"
     ]
    }
   ],
   "source": [
    "y = int(input('Enter the year: '))\n",
    "if y%100==0 and y%400==0 or y%100!=0 and y%4==0:\n",
    "    print('Leap')\n",
    "else:\n",
    "    print('not leap')"
   ]
  },
  {
   "cell_type": "code",
   "execution_count": null,
   "id": "53e92655",
   "metadata": {},
   "outputs": [],
   "source": []
  }
 ],
 "metadata": {
  "kernelspec": {
   "display_name": "Python 3 (ipykernel)",
   "language": "python",
   "name": "python3"
  },
  "language_info": {
   "codemirror_mode": {
    "name": "ipython",
    "version": 3
   },
   "file_extension": ".py",
   "mimetype": "text/x-python",
   "name": "python",
   "nbconvert_exporter": "python",
   "pygments_lexer": "ipython3",
   "version": "3.10.4"
  }
 },
 "nbformat": 4,
 "nbformat_minor": 5
}
