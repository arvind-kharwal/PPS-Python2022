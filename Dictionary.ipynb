{
 "cells": [
  {
   "cell_type": "code",
   "execution_count": 2,
   "id": "4d7efd0a",
   "metadata": {},
   "outputs": [
    {
     "name": "stdout",
     "output_type": "stream",
     "text": [
      "{1: 'a', 2: 'abc'}\n"
     ]
    }
   ],
   "source": [
    "D = {1:'a',2:'abc'}\n",
    "print(D)"
   ]
  },
  {
   "cell_type": "code",
   "execution_count": 3,
   "id": "0f31784d",
   "metadata": {},
   "outputs": [
    {
     "name": "stdout",
     "output_type": "stream",
     "text": [
      "{3: 'xy', 'c': 13}\n"
     ]
    }
   ],
   "source": [
    "D1 = dict({3:'xy','c':13})\n",
    "print(D1)"
   ]
  },
  {
   "cell_type": "code",
   "execution_count": 4,
   "id": "93f7e971",
   "metadata": {},
   "outputs": [
    {
     "name": "stdout",
     "output_type": "stream",
     "text": [
      "{1: 10, 2: 20}\n"
     ]
    }
   ],
   "source": [
    "D2 = dict([(1,10),(2,20)])\n",
    "print(D2)"
   ]
  },
  {
   "cell_type": "markdown",
   "id": "93c30f76",
   "metadata": {},
   "source": [
    "# Empty Dictionary"
   ]
  },
  {
   "cell_type": "code",
   "execution_count": 6,
   "id": "463ec580",
   "metadata": {},
   "outputs": [
    {
     "name": "stdout",
     "output_type": "stream",
     "text": [
      "{}\n"
     ]
    }
   ],
   "source": [
    "E = {}\n",
    "print(E)"
   ]
  },
  {
   "cell_type": "code",
   "execution_count": 7,
   "id": "6706aee2",
   "metadata": {},
   "outputs": [
    {
     "data": {
      "text/plain": [
       "dict"
      ]
     },
     "execution_count": 7,
     "metadata": {},
     "output_type": "execute_result"
    }
   ],
   "source": [
    "type(E)"
   ]
  },
  {
   "cell_type": "markdown",
   "id": "002753ea",
   "metadata": {},
   "source": [
    "# Accessing Values in Dictionary"
   ]
  },
  {
   "cell_type": "code",
   "execution_count": 8,
   "id": "17a82cf7",
   "metadata": {},
   "outputs": [
    {
     "name": "stdout",
     "output_type": "stream",
     "text": [
      "{'name': 'Arvind', 'age': 40, 'email': 'karvind08@gmail.com'}\n"
     ]
    }
   ],
   "source": [
    "D3 = {'name':'Arvind','age':40,'email':'karvind08@gmail.com'}\n",
    "print(D3)\n"
   ]
  },
  {
   "cell_type": "code",
   "execution_count": 9,
   "id": "3ce86e21",
   "metadata": {},
   "outputs": [
    {
     "name": "stdout",
     "output_type": "stream",
     "text": [
      "Arvind\n"
     ]
    }
   ],
   "source": [
    "print(D3['name'])"
   ]
  },
  {
   "cell_type": "code",
   "execution_count": 10,
   "id": "9ba483fc",
   "metadata": {},
   "outputs": [
    {
     "name": "stdout",
     "output_type": "stream",
     "text": [
      "40\n"
     ]
    }
   ],
   "source": [
    "print(D3['age'])"
   ]
  },
  {
   "cell_type": "code",
   "execution_count": 12,
   "id": "ee65a193",
   "metadata": {},
   "outputs": [
    {
     "name": "stdout",
     "output_type": "stream",
     "text": [
      "Arvind\n"
     ]
    }
   ],
   "source": [
    "val = D3.get('name')\n",
    "print(val)"
   ]
  },
  {
   "cell_type": "markdown",
   "id": "883adfd6",
   "metadata": {},
   "source": [
    "# Updating Dictionary"
   ]
  },
  {
   "cell_type": "markdown",
   "id": "d49abfe8",
   "metadata": {},
   "source": [
    "# Using subscript Notation"
   ]
  },
  {
   "cell_type": "code",
   "execution_count": 13,
   "id": "81d05d32",
   "metadata": {},
   "outputs": [],
   "source": [
    "D3['age'] = 41"
   ]
  },
  {
   "cell_type": "code",
   "execution_count": 14,
   "id": "b7d50141",
   "metadata": {},
   "outputs": [
    {
     "name": "stdout",
     "output_type": "stream",
     "text": [
      "{'name': 'Arvind', 'age': 41, 'email': 'karvind08@gmail.com'}\n"
     ]
    }
   ],
   "source": [
    "print(D3)"
   ]
  },
  {
   "cell_type": "markdown",
   "id": "867a786b",
   "metadata": {},
   "source": [
    "# Using update function"
   ]
  },
  {
   "cell_type": "code",
   "execution_count": 18,
   "id": "7c524c06",
   "metadata": {},
   "outputs": [
    {
     "name": "stdout",
     "output_type": "stream",
     "text": [
      "{'name': 'Arvind', 'age': 42, 'email': 'karvind08@gmail.com'}\n"
     ]
    }
   ],
   "source": [
    "D3.update({'age':42})\n",
    "print(D3)"
   ]
  },
  {
   "cell_type": "markdown",
   "id": "48560b0c",
   "metadata": {},
   "source": [
    "# Del"
   ]
  },
  {
   "cell_type": "code",
   "execution_count": 19,
   "id": "9eaa8e32",
   "metadata": {},
   "outputs": [],
   "source": [
    "del(D3['age'])"
   ]
  },
  {
   "cell_type": "code",
   "execution_count": 20,
   "id": "f155dbfd",
   "metadata": {},
   "outputs": [
    {
     "data": {
      "text/plain": [
       "{'name': 'Arvind', 'email': 'karvind08@gmail.com'}"
      ]
     },
     "execution_count": 20,
     "metadata": {},
     "output_type": "execute_result"
    }
   ],
   "source": [
    "D3"
   ]
  },
  {
   "cell_type": "code",
   "execution_count": 21,
   "id": "2baea4c8",
   "metadata": {},
   "outputs": [],
   "source": [
    "del(D3)"
   ]
  },
  {
   "cell_type": "code",
   "execution_count": 22,
   "id": "f2b2977d",
   "metadata": {},
   "outputs": [
    {
     "ename": "NameError",
     "evalue": "name 'D3' is not defined",
     "output_type": "error",
     "traceback": [
      "\u001b[1;31m---------------------------------------------------------------------------\u001b[0m",
      "\u001b[1;31mNameError\u001b[0m                                 Traceback (most recent call last)",
      "Input \u001b[1;32mIn [22]\u001b[0m, in \u001b[0;36m<cell line: 1>\u001b[1;34m()\u001b[0m\n\u001b[1;32m----> 1\u001b[0m \u001b[43mD3\u001b[49m\n",
      "\u001b[1;31mNameError\u001b[0m: name 'D3' is not defined"
     ]
    }
   ],
   "source": [
    "D3"
   ]
  },
  {
   "cell_type": "markdown",
   "id": "55f1e4c8",
   "metadata": {},
   "source": [
    "# Clear()"
   ]
  },
  {
   "cell_type": "code",
   "execution_count": 25,
   "id": "6f98a50b",
   "metadata": {},
   "outputs": [
    {
     "name": "stdout",
     "output_type": "stream",
     "text": [
      "{'name': 'Arvind', 'age': 40, 'email': 'karvind08@gmail.com'}\n"
     ]
    }
   ],
   "source": [
    "D4 = {'name':'Arvind','age':40,'email':'karvind08@gmail.com'}\n",
    "print(D4)\n"
   ]
  },
  {
   "cell_type": "code",
   "execution_count": 26,
   "id": "2ac491f7",
   "metadata": {},
   "outputs": [],
   "source": [
    "D4.clear()"
   ]
  },
  {
   "cell_type": "code",
   "execution_count": 27,
   "id": "8335472a",
   "metadata": {},
   "outputs": [
    {
     "name": "stdout",
     "output_type": "stream",
     "text": [
      "{}\n"
     ]
    }
   ],
   "source": [
    "print(D4)"
   ]
  },
  {
   "cell_type": "markdown",
   "id": "d7fb34c0",
   "metadata": {},
   "source": [
    "# iterating through loop"
   ]
  },
  {
   "cell_type": "code",
   "execution_count": 28,
   "id": "e67d48d0",
   "metadata": {},
   "outputs": [
    {
     "name": "stdout",
     "output_type": "stream",
     "text": [
      "name\n",
      "age\n",
      "email\n"
     ]
    }
   ],
   "source": [
    "D5 = {'name':'Arvind','age':40,'email':'karvind08@gmail.com'}\n",
    "for i in D5:\n",
    "    print(i)"
   ]
  },
  {
   "cell_type": "code",
   "execution_count": 30,
   "id": "522dd372",
   "metadata": {},
   "outputs": [
    {
     "name": "stdout",
     "output_type": "stream",
     "text": [
      "Arvind\n",
      "40\n",
      "karvind08@gmail.com\n"
     ]
    }
   ],
   "source": [
    "D5 = {'name':'Arvind','age':40,'email':'karvind08@gmail.com'}\n",
    "for i in D5.values():\n",
    "    print(i)"
   ]
  },
  {
   "cell_type": "code",
   "execution_count": 31,
   "id": "4e36dc61",
   "metadata": {},
   "outputs": [
    {
     "name": "stdout",
     "output_type": "stream",
     "text": [
      "name Arvind\n",
      "age 40\n",
      "email karvind08@gmail.com\n"
     ]
    }
   ],
   "source": [
    "D5 = {'name':'Arvind','age':40,'email':'karvind08@gmail.com'}\n",
    "for i,j in D5.items():\n",
    "    print(i,j)"
   ]
  },
  {
   "cell_type": "markdown",
   "id": "3491f2cb",
   "metadata": {},
   "source": [
    "# Membership"
   ]
  },
  {
   "cell_type": "code",
   "execution_count": 32,
   "id": "859115ef",
   "metadata": {},
   "outputs": [
    {
     "data": {
      "text/plain": [
       "True"
      ]
     },
     "execution_count": 32,
     "metadata": {},
     "output_type": "execute_result"
    }
   ],
   "source": [
    "'name' in D5"
   ]
  },
  {
   "cell_type": "markdown",
   "id": "1cf3ad91",
   "metadata": {},
   "source": [
    "# pop()"
   ]
  },
  {
   "cell_type": "code",
   "execution_count": 33,
   "id": "d56d82f5",
   "metadata": {},
   "outputs": [
    {
     "data": {
      "text/plain": [
       "40"
      ]
     },
     "execution_count": 33,
     "metadata": {},
     "output_type": "execute_result"
    }
   ],
   "source": [
    "D5.pop('age')"
   ]
  },
  {
   "cell_type": "markdown",
   "id": "1cc85730",
   "metadata": {},
   "source": [
    "# Copy()"
   ]
  },
  {
   "cell_type": "code",
   "execution_count": 34,
   "id": "60592a16",
   "metadata": {},
   "outputs": [
    {
     "name": "stdout",
     "output_type": "stream",
     "text": [
      "{'name': 'Arvind', 'age': 40, 'email': 'karvind08@gmail.com'}\n"
     ]
    }
   ],
   "source": [
    "D6 = {'name':'Arvind','age':40,'email':'karvind08@gmail.com'}\n",
    "print(D6)"
   ]
  },
  {
   "cell_type": "code",
   "execution_count": 35,
   "id": "21d36327",
   "metadata": {},
   "outputs": [
    {
     "name": "stdout",
     "output_type": "stream",
     "text": [
      "{'name': 'Arvind', 'age': 40, 'email': 'karvind08@gmail.com'}\n"
     ]
    }
   ],
   "source": [
    "D7 = D6\n",
    "print(D7)"
   ]
  },
  {
   "cell_type": "code",
   "execution_count": 38,
   "id": "e2307f62",
   "metadata": {},
   "outputs": [],
   "source": [
    "D6[1]=100"
   ]
  },
  {
   "cell_type": "code",
   "execution_count": 39,
   "id": "1d37f65c",
   "metadata": {},
   "outputs": [
    {
     "data": {
      "text/plain": [
       "{'name': 'Arvind', 'age': 40, 'email': 'karvind08@gmail.com', 1: 100}"
      ]
     },
     "execution_count": 39,
     "metadata": {},
     "output_type": "execute_result"
    }
   ],
   "source": [
    "D6"
   ]
  },
  {
   "cell_type": "code",
   "execution_count": 40,
   "id": "909af507",
   "metadata": {},
   "outputs": [
    {
     "data": {
      "text/plain": [
       "{'name': 'Arvind', 'age': 40, 'email': 'karvind08@gmail.com', 1: 100}"
      ]
     },
     "execution_count": 40,
     "metadata": {},
     "output_type": "execute_result"
    }
   ],
   "source": [
    "D7"
   ]
  },
  {
   "cell_type": "code",
   "execution_count": 41,
   "id": "b6905d6f",
   "metadata": {},
   "outputs": [],
   "source": [
    "D8 = {'name':'Arvind','age':40,'email':'karvind08@gmail.com'}"
   ]
  },
  {
   "cell_type": "code",
   "execution_count": 42,
   "id": "cf1cfe32",
   "metadata": {},
   "outputs": [
    {
     "data": {
      "text/plain": [
       "{'name': 'Arvind', 'age': 40, 'email': 'karvind08@gmail.com'}"
      ]
     },
     "execution_count": 42,
     "metadata": {},
     "output_type": "execute_result"
    }
   ],
   "source": [
    "D8"
   ]
  },
  {
   "cell_type": "code",
   "execution_count": 43,
   "id": "9997632f",
   "metadata": {},
   "outputs": [],
   "source": [
    "D9 = D8.copy()"
   ]
  },
  {
   "cell_type": "code",
   "execution_count": 44,
   "id": "9eaed094",
   "metadata": {},
   "outputs": [
    {
     "data": {
      "text/plain": [
       "{'name': 'Arvind', 'age': 40, 'email': 'karvind08@gmail.com'}"
      ]
     },
     "execution_count": 44,
     "metadata": {},
     "output_type": "execute_result"
    }
   ],
   "source": [
    "D9"
   ]
  },
  {
   "cell_type": "code",
   "execution_count": 45,
   "id": "ea34d575",
   "metadata": {},
   "outputs": [],
   "source": [
    "D8[2]=200"
   ]
  },
  {
   "cell_type": "code",
   "execution_count": 46,
   "id": "91ada7eb",
   "metadata": {},
   "outputs": [
    {
     "data": {
      "text/plain": [
       "{'name': 'Arvind', 'age': 40, 'email': 'karvind08@gmail.com', 2: 200}"
      ]
     },
     "execution_count": 46,
     "metadata": {},
     "output_type": "execute_result"
    }
   ],
   "source": [
    "D8"
   ]
  },
  {
   "cell_type": "code",
   "execution_count": 47,
   "id": "28c3acaa",
   "metadata": {},
   "outputs": [
    {
     "data": {
      "text/plain": [
       "{'name': 'Arvind', 'age': 40, 'email': 'karvind08@gmail.com'}"
      ]
     },
     "execution_count": 47,
     "metadata": {},
     "output_type": "execute_result"
    }
   ],
   "source": [
    "D9"
   ]
  },
  {
   "cell_type": "code",
   "execution_count": null,
   "id": "93bfccc8",
   "metadata": {},
   "outputs": [],
   "source": []
  }
 ],
 "metadata": {
  "kernelspec": {
   "display_name": "Python 3 (ipykernel)",
   "language": "python",
   "name": "python3"
  },
  "language_info": {
   "codemirror_mode": {
    "name": "ipython",
    "version": 3
   },
   "file_extension": ".py",
   "mimetype": "text/x-python",
   "name": "python",
   "nbconvert_exporter": "python",
   "pygments_lexer": "ipython3",
   "version": "3.10.4"
  }
 },
 "nbformat": 4,
 "nbformat_minor": 5
}
