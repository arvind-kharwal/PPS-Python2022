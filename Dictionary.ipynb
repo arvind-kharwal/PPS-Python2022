{
 "cells": [
  {
   "cell_type": "code",
   "execution_count": null,
   "id": "4d7efd0a",
   "metadata": {},
   "outputs": [],
   "source": [
    "D = {1:'a',2:'abc'}\n",
    "print(D)"
   ]
  },
  {
   "cell_type": "code",
   "execution_count": null,
   "id": "0f31784d",
   "metadata": {},
   "outputs": [],
   "source": [
    "D1 = dict({3:'xy','c':13})\n",
    "print(D1)"
   ]
  },
  {
   "cell_type": "code",
   "execution_count": null,
   "id": "93f7e971",
   "metadata": {},
   "outputs": [],
   "source": [
    "D2 = dict([(1,10),(2,20)])\n",
    "print(D2)"
   ]
  },
  {
   "cell_type": "markdown",
   "id": "93c30f76",
   "metadata": {},
   "source": [
    "# Empty Dictionary"
   ]
  },
  {
   "cell_type": "code",
   "execution_count": null,
   "id": "463ec580",
   "metadata": {},
   "outputs": [],
   "source": [
    "E = {}\n",
    "print(E)"
   ]
  },
  {
   "cell_type": "code",
   "execution_count": null,
   "id": "6706aee2",
   "metadata": {},
   "outputs": [],
   "source": [
    "type(E)"
   ]
  },
  {
   "cell_type": "markdown",
   "id": "002753ea",
   "metadata": {},
   "source": [
    "# Accessing Values in Dictionary"
   ]
  },
  {
   "cell_type": "code",
   "execution_count": null,
   "id": "17a82cf7",
   "metadata": {},
   "outputs": [],
   "source": [
    "D3 = {'name':'Arvind','age':40,'email':'karvind08@gmail.com'}\n",
    "print(D3)\n"
   ]
  },
  {
   "cell_type": "code",
   "execution_count": null,
   "id": "3ce86e21",
   "metadata": {},
   "outputs": [],
   "source": [
    "print(D3['name'])"
   ]
  },
  {
   "cell_type": "code",
   "execution_count": null,
   "id": "9ba483fc",
   "metadata": {},
   "outputs": [],
   "source": [
    "print(D3['age'])"
   ]
  },
  {
   "cell_type": "code",
   "execution_count": null,
   "id": "ee65a193",
   "metadata": {},
   "outputs": [],
   "source": [
    "val = D3.get('name')\n",
    "print(val)"
   ]
  },
  {
   "cell_type": "markdown",
   "id": "883adfd6",
   "metadata": {},
   "source": [
    "# Updating Dictionary"
   ]
  },
  {
   "cell_type": "markdown",
   "id": "d49abfe8",
   "metadata": {},
   "source": [
    "# Using subscript Notation"
   ]
  },
  {
   "cell_type": "code",
   "execution_count": null,
   "id": "81d05d32",
   "metadata": {},
   "outputs": [],
   "source": [
    "D3['age'] = 41"
   ]
  },
  {
   "cell_type": "code",
   "execution_count": null,
   "id": "b7d50141",
   "metadata": {},
   "outputs": [],
   "source": [
    "print(D3)"
   ]
  },
  {
   "cell_type": "markdown",
   "id": "867a786b",
   "metadata": {},
   "source": [
    "# Using update function"
   ]
  },
  {
   "cell_type": "code",
   "execution_count": null,
   "id": "7c524c06",
   "metadata": {},
   "outputs": [],
   "source": [
    "D3.update({'age':42})\n",
    "print(D3)"
   ]
  },
  {
   "cell_type": "markdown",
   "id": "48560b0c",
   "metadata": {},
   "source": [
    "# Del"
   ]
  },
  {
   "cell_type": "code",
   "execution_count": null,
   "id": "9eaa8e32",
   "metadata": {},
   "outputs": [],
   "source": [
    "del(D3['age'])"
   ]
  },
  {
   "cell_type": "code",
   "execution_count": null,
   "id": "f155dbfd",
   "metadata": {},
   "outputs": [],
   "source": [
    "D3"
   ]
  },
  {
   "cell_type": "code",
   "execution_count": null,
   "id": "2baea4c8",
   "metadata": {},
   "outputs": [],
   "source": [
    "del(D3)"
   ]
  },
  {
   "cell_type": "code",
   "execution_count": null,
   "id": "f2b2977d",
   "metadata": {},
   "outputs": [],
   "source": [
    "D3"
   ]
  },
  {
   "cell_type": "markdown",
   "id": "55f1e4c8",
   "metadata": {},
   "source": [
    "# Clear()"
   ]
  },
  {
   "cell_type": "code",
   "execution_count": null,
   "id": "6f98a50b",
   "metadata": {},
   "outputs": [],
   "source": [
    "D4 = {'name':'Arvind','age':40,'email':'karvind08@gmail.com'}\n",
    "print(D4)\n"
   ]
  },
  {
   "cell_type": "code",
   "execution_count": null,
   "id": "2ac491f7",
   "metadata": {},
   "outputs": [],
   "source": [
    "D4.clear()"
   ]
  },
  {
   "cell_type": "code",
   "execution_count": null,
   "id": "8335472a",
   "metadata": {},
   "outputs": [],
   "source": [
    "print(D4)"
   ]
  },
  {
   "cell_type": "markdown",
   "id": "d7fb34c0",
   "metadata": {},
   "source": [
    "# iterating through loop"
   ]
  },
  {
   "cell_type": "code",
   "execution_count": null,
   "id": "e67d48d0",
   "metadata": {},
   "outputs": [],
   "source": [
    "D5 = {'name':'Arvind','age':40,'email':'karvind08@gmail.com'}\n",
    "for i in D5:\n",
    "    print(i)"
   ]
  },
  {
   "cell_type": "code",
   "execution_count": null,
   "id": "522dd372",
   "metadata": {},
   "outputs": [],
   "source": [
    "D5 = {'name':'Arvind','age':40,'email':'karvind08@gmail.com'}\n",
    "for i in D5.values():\n",
    "    print(i)"
   ]
  },
  {
   "cell_type": "code",
   "execution_count": null,
   "id": "4e36dc61",
   "metadata": {},
   "outputs": [],
   "source": [
    "D5 = {'name':'Arvind','age':40,'email':'karvind08@gmail.com'}\n",
    "for i,j in D5.items():\n",
    "    print(i,j)"
   ]
  },
  {
   "cell_type": "markdown",
   "id": "3491f2cb",
   "metadata": {},
   "source": [
    "# Membership"
   ]
  },
  {
   "cell_type": "code",
   "execution_count": null,
   "id": "859115ef",
   "metadata": {},
   "outputs": [],
   "source": [
    "'name' in D5"
   ]
  },
  {
   "cell_type": "markdown",
   "id": "1cf3ad91",
   "metadata": {},
   "source": [
    "# pop()"
   ]
  },
  {
   "cell_type": "code",
   "execution_count": null,
   "id": "d56d82f5",
   "metadata": {},
   "outputs": [],
   "source": [
    "D5.pop('age')"
   ]
  },
  {
   "cell_type": "markdown",
   "id": "1cc85730",
   "metadata": {},
   "source": [
    "# Copy()"
   ]
  },
  {
   "cell_type": "code",
   "execution_count": null,
   "id": "60592a16",
   "metadata": {},
   "outputs": [],
   "source": [
    "D6 = {'name':'Arvind','age':40,'email':'karvind08@gmail.com'}\n",
    "print(D6)"
   ]
  },
  {
   "cell_type": "code",
   "execution_count": null,
   "id": "21d36327",
   "metadata": {},
   "outputs": [],
   "source": [
    "D7 = D6\n",
    "print(D7)"
   ]
  },
  {
   "cell_type": "code",
   "execution_count": null,
   "id": "e2307f62",
   "metadata": {},
   "outputs": [],
   "source": [
    "D6[1]=100"
   ]
  },
  {
   "cell_type": "code",
   "execution_count": null,
   "id": "1d37f65c",
   "metadata": {},
   "outputs": [],
   "source": [
    "D6"
   ]
  },
  {
   "cell_type": "code",
   "execution_count": null,
   "id": "909af507",
   "metadata": {},
   "outputs": [],
   "source": [
    "D7"
   ]
  },
  {
   "cell_type": "code",
   "execution_count": null,
   "id": "b6905d6f",
   "metadata": {},
   "outputs": [],
   "source": [
    "D8 = {'name':'Arvind','age':40,'email':'karvind08@gmail.com'}"
   ]
  },
  {
   "cell_type": "code",
   "execution_count": null,
   "id": "cf1cfe32",
   "metadata": {},
   "outputs": [],
   "source": [
    "D8"
   ]
  },
  {
   "cell_type": "code",
   "execution_count": null,
   "id": "9997632f",
   "metadata": {},
   "outputs": [],
   "source": [
    "D9 = D8.copy()"
   ]
  },
  {
   "cell_type": "code",
   "execution_count": null,
   "id": "9eaed094",
   "metadata": {},
   "outputs": [],
   "source": [
    "D9"
   ]
  },
  {
   "cell_type": "code",
   "execution_count": null,
   "id": "ea34d575",
   "metadata": {},
   "outputs": [],
   "source": [
    "D8[2]=200"
   ]
  },
  {
   "cell_type": "code",
   "execution_count": null,
   "id": "91ada7eb",
   "metadata": {},
   "outputs": [],
   "source": [
    "D8"
   ]
  },
  {
   "cell_type": "code",
   "execution_count": null,
   "id": "28c3acaa",
   "metadata": {},
   "outputs": [],
   "source": [
    "D9"
   ]
  },
  {
   "cell_type": "code",
   "execution_count": null,
   "id": "33c14603",
   "metadata": {},
   "outputs": [],
   "source": [
    "s = input('Enter the string: ')\n",
    "print(s)\n",
    "res = s.capitalize()\n",
    "print(res)"
   ]
  },
  {
   "cell_type": "code",
   "execution_count": null,
   "id": "b085310a",
   "metadata": {},
   "outputs": [],
   "source": [
    "s = input('Enter the string: ')\n",
    "print(s)\n",
    "res = s.swapcase()\n",
    "print(res)"
   ]
  },
  {
   "cell_type": "code",
   "execution_count": null,
   "id": "5c0b6a79",
   "metadata": {},
   "outputs": [],
   "source": [
    "d = {}\n",
    "n = int(input('Enter the number of elements in dictionary: '))\n",
    "for i in range(n):\n",
    "    k=input('Enter the key: ')\n",
    "    v=int(input('Enter the value: '))\n",
    "    d[k]=v\n",
    "print('The dictionary is: ',d)"
   ]
  },
  {
   "cell_type": "code",
   "execution_count": null,
   "id": "d7ef10ab",
   "metadata": {},
   "outputs": [],
   "source": []
  },
  {
   "cell_type": "code",
   "execution_count": null,
   "id": "49618029",
   "metadata": {},
   "outputs": [],
   "source": [
    "d = {}\n",
    "n = int(input('How many elements do you want to enter: '))\n",
    "for i in range(n):\n",
    "    k = int(input(\"Enter the Key: \"))\n",
    "    v = int(input(\"Enter the value: \"))\n",
    "    d[k]=v\n",
    "print(d)"
   ]
  },
  {
   "cell_type": "code",
   "execution_count": 2,
   "id": "73432e9b",
   "metadata": {},
   "outputs": [
    {
     "name": "stdout",
     "output_type": "stream",
     "text": [
      "\n",
      "Shopping Cart\n",
      "---------------------\n",
      "1. Add Item\n",
      "2. Remove Item\n",
      "3. View Cart\n",
      "4. Exit\n",
      "Enter your choice:2\n",
      "Enter item Name3\n"
     ]
    },
    {
     "ename": "KeyError",
     "evalue": "'3'",
     "output_type": "error",
     "traceback": [
      "\u001b[1;31m---------------------------------------------------------------------------\u001b[0m",
      "\u001b[1;31mKeyError\u001b[0m                                  Traceback (most recent call last)",
      "Input \u001b[1;32mIn [2]\u001b[0m, in \u001b[0;36m<cell line: 10>\u001b[1;34m()\u001b[0m\n\u001b[0;32m     15\u001b[0m \u001b[38;5;28;01melif\u001b[39;00m ch\u001b[38;5;241m==\u001b[39m\u001b[38;5;241m2\u001b[39m:\n\u001b[0;32m     16\u001b[0m     item \u001b[38;5;241m=\u001b[39m \u001b[38;5;28minput\u001b[39m(\u001b[38;5;124m'\u001b[39m\u001b[38;5;124mEnter item Name\u001b[39m\u001b[38;5;124m'\u001b[39m)\n\u001b[1;32m---> 17\u001b[0m     \u001b[38;5;28;01mdel\u001b[39;00m(cart[item])\n\u001b[0;32m     18\u001b[0m \u001b[38;5;28;01melif\u001b[39;00m ch\u001b[38;5;241m==\u001b[39m\u001b[38;5;241m3\u001b[39m:\n\u001b[0;32m     19\u001b[0m     \u001b[38;5;28;01mfor\u001b[39;00m item \u001b[38;5;129;01min\u001b[39;00m cart:\n",
      "\u001b[1;31mKeyError\u001b[0m: '3'"
     ]
    }
   ],
   "source": [
    "cart = {}\n",
    "print('''\n",
    "Shopping Cart\n",
    "---------------------\n",
    "1. Add Item\n",
    "2. Remove Item\n",
    "3. View Cart\n",
    "4. Exit''')\n",
    "ch = int(input('Enter your choice:'))\n",
    "while ch!=0:\n",
    "    if ch==1:\n",
    "        item = input('Enter item Name')\n",
    "        qty = int(input('Enter Quantity:'))\n",
    "        cart[item]=qty\n",
    "    elif ch==2:\n",
    "        item = input('Enter item Name')\n",
    "        del(cart[item])\n",
    "    elif ch==3:\n",
    "        for item in cart:\n",
    "            print(item,':',cart[item])\n",
    "    elif ch!=0:\n",
    "        print('Please enter correct choice')\n",
    "        ch = int(input('Enter your choice:'))\n",
    "else:\n",
    "        print('Cart Closed')\n",
    "        "
   ]
  },
  {
   "cell_type": "markdown",
   "id": "316f9a41",
   "metadata": {},
   "source": [
    "22\n",
    "## "
   ]
  },
  {
   "cell_type": "code",
   "execution_count": null,
   "id": "92dbb772",
   "metadata": {},
   "outputs": [],
   "source": []
  },
  {
   "cell_type": "code",
   "execution_count": null,
   "id": "6542e3c1",
   "metadata": {},
   "outputs": [],
   "source": []
  },
  {
   "cell_type": "code",
   "execution_count": null,
   "id": "75f0cca9",
   "metadata": {},
   "outputs": [],
   "source": []
  }
 ],
 "metadata": {
  "kernelspec": {
   "display_name": "Python 3 (ipykernel)",
   "language": "python",
   "name": "python3"
  },
  "language_info": {
   "codemirror_mode": {
    "name": "ipython",
    "version": 3
   },
   "file_extension": ".py",
   "mimetype": "text/x-python",
   "name": "python",
   "nbconvert_exporter": "python",
   "pygments_lexer": "ipython3",
   "version": "3.10.4"
  }
 },
 "nbformat": 4,
 "nbformat_minor": 5
}
