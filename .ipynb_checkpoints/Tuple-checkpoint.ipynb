{
 "cells": [
  {
   "cell_type": "code",
   "execution_count": 2,
   "id": "13b2284b",
   "metadata": {},
   "outputs": [
    {
     "name": "stdout",
     "output_type": "stream",
     "text": [
      "1\n"
     ]
    }
   ],
   "source": [
    "t1 = (1)\n",
    "print(t1)"
   ]
  },
  {
   "cell_type": "code",
   "execution_count": 3,
   "id": "57766ae6",
   "metadata": {},
   "outputs": [
    {
     "data": {
      "text/plain": [
       "int"
      ]
     },
     "execution_count": 3,
     "metadata": {},
     "output_type": "execute_result"
    }
   ],
   "source": [
    "type(t1)"
   ]
  },
  {
   "cell_type": "code",
   "execution_count": 6,
   "id": "23ede66c",
   "metadata": {},
   "outputs": [
    {
     "name": "stdout",
     "output_type": "stream",
     "text": [
      "(1,)\n"
     ]
    }
   ],
   "source": [
    "t2 = (1,)\n",
    "print(t2)"
   ]
  },
  {
   "cell_type": "code",
   "execution_count": 7,
   "id": "20a55c98",
   "metadata": {},
   "outputs": [
    {
     "data": {
      "text/plain": [
       "tuple"
      ]
     },
     "execution_count": 7,
     "metadata": {},
     "output_type": "execute_result"
    }
   ],
   "source": [
    "type(t2)"
   ]
  },
  {
   "cell_type": "code",
   "execution_count": 2,
   "id": "8d45b033",
   "metadata": {},
   "outputs": [
    {
     "name": "stdout",
     "output_type": "stream",
     "text": [
      "(1, 2, 3)\n"
     ]
    }
   ],
   "source": [
    "t3 = (1,2,3)\n",
    "print(t3)"
   ]
  },
  {
   "cell_type": "markdown",
   "id": "27de6763",
   "metadata": {},
   "source": [
    "# Tuple Constructor"
   ]
  },
  {
   "cell_type": "code",
   "execution_count": 5,
   "id": "f8d34829",
   "metadata": {},
   "outputs": [
    {
     "name": "stdout",
     "output_type": "stream",
     "text": [
      "('a', 'b', 'c')\n"
     ]
    }
   ],
   "source": [
    "t4 = tuple(('a','b','c',))\n",
    "print(t4)"
   ]
  },
  {
   "cell_type": "markdown",
   "id": "2147df7c",
   "metadata": {},
   "source": [
    "# empty tuple"
   ]
  },
  {
   "cell_type": "code",
   "execution_count": 1,
   "id": "3fd05206",
   "metadata": {},
   "outputs": [
    {
     "name": "stdout",
     "output_type": "stream",
     "text": [
      "()\n"
     ]
    }
   ],
   "source": [
    "t = ()\n",
    "print(t)"
   ]
  },
  {
   "cell_type": "markdown",
   "id": "64a41bef",
   "metadata": {},
   "source": [
    "# Accessing Values in Tuples"
   ]
  },
  {
   "cell_type": "code",
   "execution_count": 6,
   "id": "d28bc5dd",
   "metadata": {},
   "outputs": [
    {
     "data": {
      "text/plain": [
       "(2, 3)"
      ]
     },
     "execution_count": 6,
     "metadata": {},
     "output_type": "execute_result"
    }
   ],
   "source": [
    "t5 = (1,2,3,4,5)\n",
    "t5[1:3]"
   ]
  },
  {
   "cell_type": "markdown",
   "id": "348f3030",
   "metadata": {},
   "source": [
    "# Updating Tuple "
   ]
  },
  {
   "cell_type": "code",
   "execution_count": 7,
   "id": "b7b9af64",
   "metadata": {},
   "outputs": [
    {
     "ename": "TypeError",
     "evalue": "'tuple' object does not support item assignment",
     "output_type": "error",
     "traceback": [
      "\u001b[1;31m---------------------------------------------------------------------------\u001b[0m",
      "\u001b[1;31mTypeError\u001b[0m                                 Traceback (most recent call last)",
      "Input \u001b[1;32mIn [7]\u001b[0m, in \u001b[0;36m<cell line: 2>\u001b[1;34m()\u001b[0m\n\u001b[0;32m      1\u001b[0m t6 \u001b[38;5;241m=\u001b[39m (\u001b[38;5;241m1\u001b[39m,\u001b[38;5;241m2\u001b[39m,\u001b[38;5;241m3\u001b[39m,\u001b[38;5;241m4\u001b[39m)\n\u001b[1;32m----> 2\u001b[0m t6[\u001b[38;5;241m2\u001b[39m]\u001b[38;5;241m=\u001b[39m \u001b[38;5;241m23\u001b[39m\n\u001b[0;32m      3\u001b[0m \u001b[38;5;28mprint\u001b[39m(t6)\n",
      "\u001b[1;31mTypeError\u001b[0m: 'tuple' object does not support item assignment"
     ]
    }
   ],
   "source": [
    "t6 = (1,2,3,4)\n",
    "t6[2]= 23\n",
    "print(t6)"
   ]
  },
  {
   "cell_type": "markdown",
   "id": "691d3f8d",
   "metadata": {},
   "source": [
    "# Add Items "
   ]
  },
  {
   "cell_type": "markdown",
   "id": "bc4a9433",
   "metadata": {},
   "source": [
    "# we can't add items to tuple "
   ]
  },
  {
   "cell_type": "markdown",
   "id": "0cbea3a7",
   "metadata": {},
   "source": [
    "# Delete Items from tuple"
   ]
  },
  {
   "cell_type": "markdown",
   "id": "121f5dad",
   "metadata": {},
   "source": [
    "# delete "
   ]
  },
  {
   "cell_type": "code",
   "execution_count": 8,
   "id": "adfceedf",
   "metadata": {},
   "outputs": [],
   "source": [
    "del(t6)"
   ]
  },
  {
   "cell_type": "code",
   "execution_count": 9,
   "id": "db648c2c",
   "metadata": {},
   "outputs": [
    {
     "ename": "NameError",
     "evalue": "name 't6' is not defined",
     "output_type": "error",
     "traceback": [
      "\u001b[1;31m---------------------------------------------------------------------------\u001b[0m",
      "\u001b[1;31mNameError\u001b[0m                                 Traceback (most recent call last)",
      "Input \u001b[1;32mIn [9]\u001b[0m, in \u001b[0;36m<cell line: 1>\u001b[1;34m()\u001b[0m\n\u001b[1;32m----> 1\u001b[0m \u001b[43mt6\u001b[49m\n",
      "\u001b[1;31mNameError\u001b[0m: name 't6' is not defined"
     ]
    }
   ],
   "source": [
    "t6"
   ]
  },
  {
   "cell_type": "markdown",
   "id": "03c93f4b",
   "metadata": {},
   "source": [
    "# length of tuple"
   ]
  },
  {
   "cell_type": "code",
   "execution_count": 10,
   "id": "7ccc7bed",
   "metadata": {},
   "outputs": [
    {
     "data": {
      "text/plain": [
       "5"
      ]
     },
     "execution_count": 10,
     "metadata": {},
     "output_type": "execute_result"
    }
   ],
   "source": [
    "t6 = (1,2,3,4,5,)\n",
    "len(t6)"
   ]
  },
  {
   "cell_type": "markdown",
   "id": "b34f7d2e",
   "metadata": {},
   "source": [
    "# Concatenation"
   ]
  },
  {
   "cell_type": "code",
   "execution_count": 11,
   "id": "b216e9f1",
   "metadata": {},
   "outputs": [
    {
     "data": {
      "text/plain": [
       "(1, 2, 3, 4, 5, 6)"
      ]
     },
     "execution_count": 11,
     "metadata": {},
     "output_type": "execute_result"
    }
   ],
   "source": [
    "(1,2,3)+(4,5,6)"
   ]
  },
  {
   "cell_type": "markdown",
   "id": "31c79837",
   "metadata": {},
   "source": [
    "# Repetition "
   ]
  },
  {
   "cell_type": "code",
   "execution_count": 12,
   "id": "bde2fc78",
   "metadata": {},
   "outputs": [
    {
     "data": {
      "text/plain": [
       "(1, 2, 3, 1, 2, 3, 1, 2, 3)"
      ]
     },
     "execution_count": 12,
     "metadata": {},
     "output_type": "execute_result"
    }
   ],
   "source": [
    "t7 = (1,2,3)\n",
    "t7*3"
   ]
  },
  {
   "cell_type": "markdown",
   "id": "7d80eb43",
   "metadata": {},
   "source": [
    "# Membership"
   ]
  },
  {
   "cell_type": "code",
   "execution_count": 13,
   "id": "0130f8bd",
   "metadata": {},
   "outputs": [
    {
     "data": {
      "text/plain": [
       "True"
      ]
     },
     "execution_count": 13,
     "metadata": {},
     "output_type": "execute_result"
    }
   ],
   "source": [
    "3 in t7"
   ]
  },
  {
   "cell_type": "markdown",
   "id": "3204af88",
   "metadata": {},
   "source": [
    "# Iteration through loop\n"
   ]
  },
  {
   "cell_type": "code",
   "execution_count": 14,
   "id": "b0ff60eb",
   "metadata": {},
   "outputs": [
    {
     "name": "stdout",
     "output_type": "stream",
     "text": [
      "1\n",
      "2\n",
      "3\n"
     ]
    }
   ],
   "source": [
    "for i in t7:\n",
    "    print(i)"
   ]
  },
  {
   "cell_type": "code",
   "execution_count": null,
   "id": "57042e99",
   "metadata": {},
   "outputs": [],
   "source": []
  },
  {
   "cell_type": "code",
   "execution_count": null,
   "id": "74229d83",
   "metadata": {},
   "outputs": [],
   "source": []
  }
 ],
 "metadata": {
  "kernelspec": {
   "display_name": "Python 3 (ipykernel)",
   "language": "python",
   "name": "python3"
  },
  "language_info": {
   "codemirror_mode": {
    "name": "ipython",
    "version": 3
   },
   "file_extension": ".py",
   "mimetype": "text/x-python",
   "name": "python",
   "nbconvert_exporter": "python",
   "pygments_lexer": "ipython3",
   "version": "3.10.4"
  }
 },
 "nbformat": 4,
 "nbformat_minor": 5
}
