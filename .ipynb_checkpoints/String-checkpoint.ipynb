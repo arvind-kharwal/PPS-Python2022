{
 "cells": [
  {
   "cell_type": "markdown",
   "id": "509125e7",
   "metadata": {},
   "source": [
    "# String "
   ]
  },
  {
   "cell_type": "code",
   "execution_count": 3,
   "id": "0f58a6ba",
   "metadata": {},
   "outputs": [
    {
     "name": "stdout",
     "output_type": "stream",
     "text": [
      "String 1\n"
     ]
    }
   ],
   "source": [
    "s1 = \"String 1\"\n",
    "print(s1)"
   ]
  },
  {
   "cell_type": "code",
   "execution_count": 4,
   "id": "c1f7fe14",
   "metadata": {},
   "outputs": [
    {
     "name": "stdout",
     "output_type": "stream",
     "text": [
      "String 2\n"
     ]
    }
   ],
   "source": [
    "s2 = 'String 2'\n",
    "print(s2)"
   ]
  },
  {
   "cell_type": "code",
   "execution_count": 6,
   "id": "7b7232b6",
   "metadata": {},
   "outputs": [
    {
     "name": "stdout",
     "output_type": "stream",
     "text": [
      "Hello \n",
      "this is triple quote string that is \n",
      "used for doc string\n"
     ]
    }
   ],
   "source": [
    "s3 = '''Hello \n",
    "this is triple quote string that is \n",
    "used for doc string'''\n",
    "print(s3)"
   ]
  },
  {
   "cell_type": "markdown",
   "id": "758a9e28",
   "metadata": {},
   "source": [
    "# Accessing chararcter from the string"
   ]
  },
  {
   "cell_type": "markdown",
   "id": "8f304ba7",
   "metadata": {},
   "source": [
    "# Indexing"
   ]
  },
  {
   "cell_type": "code",
   "execution_count": 7,
   "id": "7b13f095",
   "metadata": {},
   "outputs": [
    {
     "data": {
      "text/plain": [
       "'h'"
      ]
     },
     "execution_count": 7,
     "metadata": {},
     "output_type": "execute_result"
    }
   ],
   "source": [
    "s4 = \"Python\"\n",
    "s4[3]"
   ]
  },
  {
   "cell_type": "code",
   "execution_count": 9,
   "id": "8703200c",
   "metadata": {},
   "outputs": [
    {
     "ename": "IndexError",
     "evalue": "string index out of range",
     "output_type": "error",
     "traceback": [
      "\u001b[1;31m---------------------------------------------------------------------------\u001b[0m",
      "\u001b[1;31mIndexError\u001b[0m                                Traceback (most recent call last)",
      "Input \u001b[1;32mIn [9]\u001b[0m, in \u001b[0;36m<cell line: 1>\u001b[1;34m()\u001b[0m\n\u001b[1;32m----> 1\u001b[0m \u001b[43ms4\u001b[49m\u001b[43m[\u001b[49m\u001b[38;5;241;43m6\u001b[39;49m\u001b[43m]\u001b[49m\n",
      "\u001b[1;31mIndexError\u001b[0m: string index out of range"
     ]
    }
   ],
   "source": [
    "s4[6] # index error"
   ]
  },
  {
   "cell_type": "code",
   "execution_count": 10,
   "id": "063f9314",
   "metadata": {},
   "outputs": [
    {
     "data": {
      "text/plain": [
       "'n'"
      ]
     },
     "execution_count": 10,
     "metadata": {},
     "output_type": "execute_result"
    }
   ],
   "source": [
    "s4[-1]"
   ]
  },
  {
   "cell_type": "markdown",
   "id": "d6ff56d0",
   "metadata": {},
   "source": [
    "# Slicing"
   ]
  },
  {
   "cell_type": "code",
   "execution_count": 8,
   "id": "19c75879",
   "metadata": {},
   "outputs": [
    {
     "data": {
      "text/plain": [
       "'yth'"
      ]
     },
     "execution_count": 8,
     "metadata": {},
     "output_type": "execute_result"
    }
   ],
   "source": [
    "s4[1:4]"
   ]
  },
  {
   "cell_type": "markdown",
   "id": "ddaa8bbb",
   "metadata": {},
   "source": [
    "# String Updation"
   ]
  },
  {
   "cell_type": "markdown",
   "id": "a61ddd8e",
   "metadata": {},
   "source": [
    "# You can't update string because it is immutable"
   ]
  },
  {
   "cell_type": "markdown",
   "id": "25a26545",
   "metadata": {},
   "source": [
    "# Concatenation"
   ]
  },
  {
   "cell_type": "code",
   "execution_count": 11,
   "id": "e6945b85",
   "metadata": {},
   "outputs": [
    {
     "data": {
      "text/plain": [
       "'String 1String 2'"
      ]
     },
     "execution_count": 11,
     "metadata": {},
     "output_type": "execute_result"
    }
   ],
   "source": [
    "s1+s2"
   ]
  },
  {
   "cell_type": "markdown",
   "id": "3a1a139c",
   "metadata": {},
   "source": [
    "# Repetition Operator"
   ]
  },
  {
   "cell_type": "code",
   "execution_count": 12,
   "id": "b01d068a",
   "metadata": {},
   "outputs": [
    {
     "data": {
      "text/plain": [
       "'String 1String 1'"
      ]
     },
     "execution_count": 12,
     "metadata": {},
     "output_type": "execute_result"
    }
   ],
   "source": [
    "s1*2"
   ]
  },
  {
   "cell_type": "markdown",
   "id": "412e04a5",
   "metadata": {},
   "source": [
    "# Iterating through loop"
   ]
  },
  {
   "cell_type": "code",
   "execution_count": 13,
   "id": "56aa0a15",
   "metadata": {},
   "outputs": [
    {
     "name": "stdout",
     "output_type": "stream",
     "text": [
      "P\n",
      "y\n",
      "t\n",
      "h\n",
      "o\n",
      "n\n"
     ]
    }
   ],
   "source": [
    "for i in \"Python\":\n",
    "    print(i)"
   ]
  },
  {
   "cell_type": "code",
   "execution_count": 17,
   "id": "c9df5841",
   "metadata": {},
   "outputs": [
    {
     "name": "stdout",
     "output_type": "stream",
     "text": [
      " P\n",
      " Py\n",
      " Pyt\n",
      " Pyth\n",
      " Pytho\n",
      " Python\n"
     ]
    }
   ],
   "source": [
    "word = 'Python'\n",
    "x = ' '\n",
    "for i in word:\n",
    "    x = x+i\n",
    "    print(x)"
   ]
  },
  {
   "cell_type": "markdown",
   "id": "bf154a4b",
   "metadata": {},
   "source": [
    "# He said,\"what's is going on\""
   ]
  },
  {
   "cell_type": "code",
   "execution_count": 19,
   "id": "43ccf164",
   "metadata": {},
   "outputs": [
    {
     "name": "stdout",
     "output_type": "stream",
     "text": [
      "He said,\"what's is going on\"\n"
     ]
    }
   ],
   "source": [
    "print('He said,\"what\\'s is going on\"')"
   ]
  },
  {
   "cell_type": "code",
   "execution_count": 23,
   "id": "ee3e391f",
   "metadata": {},
   "outputs": [
    {
     "name": "stdout",
     "output_type": "stream",
     "text": [
      "He said,\"what's is going on\"\n"
     ]
    }
   ],
   "source": [
    "print(\"He said,\\\"what's is going on\\\"\")"
   ]
  },
  {
   "cell_type": "markdown",
   "id": "e79bc813",
   "metadata": {},
   "source": [
    "# Membership"
   ]
  },
  {
   "cell_type": "code",
   "execution_count": 24,
   "id": "a4ccae42",
   "metadata": {},
   "outputs": [
    {
     "data": {
      "text/plain": [
       "True"
      ]
     },
     "execution_count": 24,
     "metadata": {},
     "output_type": "execute_result"
    }
   ],
   "source": [
    "word = \"Python\"\n",
    "'P' in word"
   ]
  },
  {
   "cell_type": "markdown",
   "id": "53db66c7",
   "metadata": {},
   "source": [
    "# enumerate()"
   ]
  },
  {
   "cell_type": "code",
   "execution_count": 28,
   "id": "66c7081b",
   "metadata": {},
   "outputs": [
    {
     "data": {
      "text/plain": [
       "[(0, 'P'), (1, 'y'), (2, 't'), (3, 'h'), (4, 'o'), (5, 'n')]"
      ]
     },
     "execution_count": 28,
     "metadata": {},
     "output_type": "execute_result"
    }
   ],
   "source": [
    "word = \"Python\"\n",
    "list(enumerate(word))"
   ]
  },
  {
   "cell_type": "markdown",
   "id": "383a493a",
   "metadata": {},
   "source": [
    "# Format Method"
   ]
  },
  {
   "cell_type": "code",
   "execution_count": 30,
   "id": "3972c2a3",
   "metadata": {},
   "outputs": [
    {
     "name": "stdout",
     "output_type": "stream",
     "text": [
      "This is x= 10 and y=20\n"
     ]
    }
   ],
   "source": [
    "x = 10\n",
    "y = 20\n",
    "print('This is x= {} and y={}'.format(x,y))"
   ]
  },
  {
   "cell_type": "code",
   "execution_count": 31,
   "id": "dc4e3471",
   "metadata": {},
   "outputs": [
    {
     "name": "stdout",
     "output_type": "stream",
     "text": [
      "This is x= 20 and y=10\n"
     ]
    }
   ],
   "source": [
    "x = 10\n",
    "y = 20\n",
    "print('This is x= {1} and y={0}'.format(x,y))"
   ]
  },
  {
   "cell_type": "code",
   "execution_count": 32,
   "id": "89d908f9",
   "metadata": {},
   "outputs": [
    {
     "name": "stdout",
     "output_type": "stream",
     "text": [
      "This is x= 23 and y=33\n"
     ]
    }
   ],
   "source": [
    "print('This is x= {x} and y={y}'.format(x=23,y=33))"
   ]
  },
  {
   "cell_type": "markdown",
   "id": "80498150",
   "metadata": {},
   "source": [
    "# lower()"
   ]
  },
  {
   "cell_type": "code",
   "execution_count": 33,
   "id": "87035502",
   "metadata": {},
   "outputs": [
    {
     "data": {
      "text/plain": [
       "'python'"
      ]
     },
     "execution_count": 33,
     "metadata": {},
     "output_type": "execute_result"
    }
   ],
   "source": [
    "s1 = 'PYTHON'\n",
    "s1.lower()"
   ]
  },
  {
   "cell_type": "markdown",
   "id": "0d4e7d16",
   "metadata": {},
   "source": [
    "# upper()"
   ]
  },
  {
   "cell_type": "code",
   "execution_count": 34,
   "id": "7c488556",
   "metadata": {},
   "outputs": [
    {
     "data": {
      "text/plain": [
       "'PYTHON'"
      ]
     },
     "execution_count": 34,
     "metadata": {},
     "output_type": "execute_result"
    }
   ],
   "source": [
    "s1 = 'python'\n",
    "s1.upper()"
   ]
  },
  {
   "cell_type": "markdown",
   "id": "54e6213a",
   "metadata": {},
   "source": [
    "# split()"
   ]
  },
  {
   "cell_type": "code",
   "execution_count": 35,
   "id": "642eaf74",
   "metadata": {},
   "outputs": [
    {
     "data": {
      "text/plain": [
       "['This', 'is', 'my', 'string']"
      ]
     },
     "execution_count": 35,
     "metadata": {},
     "output_type": "execute_result"
    }
   ],
   "source": [
    "s11 = 'This is my string'\n",
    "s11.split()"
   ]
  },
  {
   "cell_type": "markdown",
   "id": "e0dd37b8",
   "metadata": {},
   "source": [
    "# join()"
   ]
  },
  {
   "cell_type": "code",
   "execution_count": 36,
   "id": "293f68d8",
   "metadata": {},
   "outputs": [
    {
     "name": "stdout",
     "output_type": "stream",
     "text": [
      "Hello How are you\n"
     ]
    }
   ],
   "source": [
    "L = ['Hello','How','are','you']\n",
    "s12=' '.join(L)\n",
    "print(s12)"
   ]
  },
  {
   "cell_type": "code",
   "execution_count": null,
   "id": "9608cbac",
   "metadata": {},
   "outputs": [],
   "source": [
    "find()"
   ]
  },
  {
   "cell_type": "code",
   "execution_count": null,
   "id": "7d86d058",
   "metadata": {},
   "outputs": [],
   "source": []
  },
  {
   "cell_type": "code",
   "execution_count": null,
   "id": "2e27593e",
   "metadata": {},
   "outputs": [],
   "source": []
  }
 ],
 "metadata": {
  "kernelspec": {
   "display_name": "Python 3 (ipykernel)",
   "language": "python",
   "name": "python3"
  },
  "language_info": {
   "codemirror_mode": {
    "name": "ipython",
    "version": 3
   },
   "file_extension": ".py",
   "mimetype": "text/x-python",
   "name": "python",
   "nbconvert_exporter": "python",
   "pygments_lexer": "ipython3",
   "version": "3.10.4"
  }
 },
 "nbformat": 4,
 "nbformat_minor": 5
}
