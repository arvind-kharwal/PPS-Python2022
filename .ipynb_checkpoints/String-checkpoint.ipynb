{
 "cells": [
  {
   "cell_type": "markdown",
   "id": "14a09612",
   "metadata": {},
   "source": [
    "# String "
   ]
  },
  {
   "cell_type": "code",
   "execution_count": 3,
   "id": "c8015122",
   "metadata": {},
   "outputs": [
    {
     "name": "stdout",
     "output_type": "stream",
     "text": [
      "String 1\n"
     ]
    }
   ],
   "source": [
    "s1 = \"String 1\"\n",
    "print(s1)"
   ]
  },
  {
   "cell_type": "code",
   "execution_count": 4,
   "id": "2e508e55",
   "metadata": {},
   "outputs": [
    {
     "name": "stdout",
     "output_type": "stream",
     "text": [
      "String 2\n"
     ]
    }
   ],
   "source": [
    "s2 = 'String 2'\n",
    "print(s2)"
   ]
  },
  {
   "cell_type": "code",
   "execution_count": 6,
   "id": "811ef3db",
   "metadata": {},
   "outputs": [
    {
     "name": "stdout",
     "output_type": "stream",
     "text": [
      "Hello \n",
      "this is triple quote string that is \n",
      "used for doc string\n"
     ]
    }
   ],
   "source": [
    "s3 = '''Hello \n",
    "this is triple quote string that is \n",
    "used for doc string'''\n",
    "print(s3)"
   ]
  },
  {
   "cell_type": "markdown",
   "id": "22c5bbec",
   "metadata": {},
   "source": [
    "# Accessing chararcter from the string"
   ]
  },
  {
   "cell_type": "markdown",
   "id": "222fb60d",
   "metadata": {},
   "source": [
    "# Indexing"
   ]
  },
  {
   "cell_type": "code",
   "execution_count": 7,
   "id": "be71cee3",
   "metadata": {},
   "outputs": [
    {
     "data": {
      "text/plain": [
       "'h'"
      ]
     },
     "execution_count": 7,
     "metadata": {},
     "output_type": "execute_result"
    }
   ],
   "source": [
    "s4 = \"Python\"\n",
    "s4[3]"
   ]
  },
  {
   "cell_type": "code",
   "execution_count": 9,
   "id": "46cdb1d9",
   "metadata": {},
   "outputs": [
    {
     "ename": "IndexError",
     "evalue": "string index out of range",
     "output_type": "error",
     "traceback": [
      "\u001b[1;31m---------------------------------------------------------------------------\u001b[0m",
      "\u001b[1;31mIndexError\u001b[0m                                Traceback (most recent call last)",
      "Input \u001b[1;32mIn [9]\u001b[0m, in \u001b[0;36m<cell line: 1>\u001b[1;34m()\u001b[0m\n\u001b[1;32m----> 1\u001b[0m \u001b[43ms4\u001b[49m\u001b[43m[\u001b[49m\u001b[38;5;241;43m6\u001b[39;49m\u001b[43m]\u001b[49m\n",
      "\u001b[1;31mIndexError\u001b[0m: string index out of range"
     ]
    }
   ],
   "source": [
    "s4[6] # index error"
   ]
  },
  {
   "cell_type": "code",
   "execution_count": 10,
   "id": "3a935795",
   "metadata": {},
   "outputs": [
    {
     "data": {
      "text/plain": [
       "'n'"
      ]
     },
     "execution_count": 10,
     "metadata": {},
     "output_type": "execute_result"
    }
   ],
   "source": [
    "s4[-1]"
   ]
  },
  {
   "cell_type": "markdown",
   "id": "d25cc859",
   "metadata": {},
   "source": [
    "# Slicing"
   ]
  },
  {
   "cell_type": "code",
   "execution_count": 8,
   "id": "8c475fd8",
   "metadata": {},
   "outputs": [
    {
     "data": {
      "text/plain": [
       "'yth'"
      ]
     },
     "execution_count": 8,
     "metadata": {},
     "output_type": "execute_result"
    }
   ],
   "source": [
    "s4[1:4]"
   ]
  },
  {
   "cell_type": "markdown",
   "id": "3baeddd4",
   "metadata": {},
   "source": [
    "# String Updation"
   ]
  },
  {
   "cell_type": "markdown",
   "id": "671ac083",
   "metadata": {},
   "source": [
    "# You can't update string because it is immutable"
   ]
  },
  {
   "cell_type": "markdown",
   "id": "09e25726",
   "metadata": {},
   "source": [
    "# Concatenation"
   ]
  },
  {
   "cell_type": "code",
   "execution_count": 11,
   "id": "6c7b93fc",
   "metadata": {},
   "outputs": [
    {
     "data": {
      "text/plain": [
       "'String 1String 2'"
      ]
     },
     "execution_count": 11,
     "metadata": {},
     "output_type": "execute_result"
    }
   ],
   "source": [
    "s1+s2"
   ]
  },
  {
   "cell_type": "markdown",
   "id": "044fb8ad",
   "metadata": {},
   "source": [
    "# Repetition Operator"
   ]
  },
  {
   "cell_type": "code",
   "execution_count": 12,
   "id": "23b4dfb0",
   "metadata": {},
   "outputs": [
    {
     "data": {
      "text/plain": [
       "'String 1String 1'"
      ]
     },
     "execution_count": 12,
     "metadata": {},
     "output_type": "execute_result"
    }
   ],
   "source": [
    "s1*2"
   ]
  },
  {
   "cell_type": "markdown",
   "id": "6d1cc1b6",
   "metadata": {},
   "source": [
    "# Iterating through loop"
   ]
  },
  {
   "cell_type": "code",
   "execution_count": 13,
   "id": "47dd6248",
   "metadata": {},
   "outputs": [
    {
     "name": "stdout",
     "output_type": "stream",
     "text": [
      "P\n",
      "y\n",
      "t\n",
      "h\n",
      "o\n",
      "n\n"
     ]
    }
   ],
   "source": [
    "for i in \"Python\":\n",
    "    print(i)"
   ]
  },
  {
   "cell_type": "code",
   "execution_count": 17,
   "id": "c32cd317",
   "metadata": {},
   "outputs": [
    {
     "name": "stdout",
     "output_type": "stream",
     "text": [
      " P\n",
      " Py\n",
      " Pyt\n",
      " Pyth\n",
      " Pytho\n",
      " Python\n"
     ]
    }
   ],
   "source": [
    "word = 'Python'\n",
    "x = ' '\n",
    "for i in word:\n",
    "    x = x+i\n",
    "    print(x)"
   ]
  },
  {
   "cell_type": "markdown",
   "id": "38711587",
   "metadata": {},
   "source": [
    "# He said,\"what's is going on\""
   ]
  },
  {
   "cell_type": "code",
   "execution_count": 19,
   "id": "96d306bc",
   "metadata": {},
   "outputs": [
    {
     "name": "stdout",
     "output_type": "stream",
     "text": [
      "He said,\"what's is going on\"\n"
     ]
    }
   ],
   "source": [
    "print('He said,\"what\\'s is going on\"')"
   ]
  },
  {
   "cell_type": "code",
   "execution_count": 23,
   "id": "63910dda",
   "metadata": {},
   "outputs": [
    {
     "name": "stdout",
     "output_type": "stream",
     "text": [
      "He said,\"what's is going on\"\n"
     ]
    }
   ],
   "source": [
    "print(\"He said,\\\"what's is going on\\\"\")"
   ]
  },
  {
   "cell_type": "markdown",
   "id": "90d08880",
   "metadata": {},
   "source": [
    "# Membership"
   ]
  },
  {
   "cell_type": "code",
   "execution_count": 24,
   "id": "fa590291",
   "metadata": {},
   "outputs": [
    {
     "data": {
      "text/plain": [
       "True"
      ]
     },
     "execution_count": 24,
     "metadata": {},
     "output_type": "execute_result"
    }
   ],
   "source": [
    "word = \"Python\"\n",
    "'P' in word"
   ]
  },
  {
   "cell_type": "markdown",
   "id": "f7915972",
   "metadata": {},
   "source": [
    "# enumerate()"
   ]
  },
  {
   "cell_type": "code",
   "execution_count": 28,
   "id": "517f512d",
   "metadata": {},
   "outputs": [
    {
     "data": {
      "text/plain": [
       "[(0, 'P'), (1, 'y'), (2, 't'), (3, 'h'), (4, 'o'), (5, 'n')]"
      ]
     },
     "execution_count": 28,
     "metadata": {},
     "output_type": "execute_result"
    }
   ],
   "source": [
    "word = \"Python\"\n",
    "list(enumerate(word))"
   ]
  },
  {
   "cell_type": "markdown",
   "id": "722f67b3",
   "metadata": {},
   "source": [
    "# Format Method"
   ]
  },
  {
   "cell_type": "code",
   "execution_count": 30,
   "id": "ce389f4d",
   "metadata": {},
   "outputs": [
    {
     "name": "stdout",
     "output_type": "stream",
     "text": [
      "This is x= 10 and y=20\n"
     ]
    }
   ],
   "source": [
    "x = 10\n",
    "y = 20\n",
    "print('This is x= {} and y={}'.format(x,y))"
   ]
  },
  {
   "cell_type": "code",
   "execution_count": 31,
   "id": "89c5d5f3",
   "metadata": {},
   "outputs": [
    {
     "name": "stdout",
     "output_type": "stream",
     "text": [
      "This is x= 20 and y=10\n"
     ]
    }
   ],
   "source": [
    "x = 10\n",
    "y = 20\n",
    "print('This is x= {1} and y={0}'.format(x,y))"
   ]
  },
  {
   "cell_type": "code",
   "execution_count": 32,
   "id": "cc1ffbdc",
   "metadata": {},
   "outputs": [
    {
     "name": "stdout",
     "output_type": "stream",
     "text": [
      "This is x= 23 and y=33\n"
     ]
    }
   ],
   "source": [
    "print('This is x= {x} and y={y}'.format(x=23,y=33))"
   ]
  },
  {
   "cell_type": "markdown",
   "id": "937df289",
   "metadata": {},
   "source": [
    "# lower()"
   ]
  },
  {
   "cell_type": "code",
   "execution_count": 33,
   "id": "e299a8bf",
   "metadata": {},
   "outputs": [
    {
     "data": {
      "text/plain": [
       "'python'"
      ]
     },
     "execution_count": 33,
     "metadata": {},
     "output_type": "execute_result"
    }
   ],
   "source": [
    "s1 = 'PYTHON'\n",
    "s1.lower()"
   ]
  },
  {
   "cell_type": "markdown",
   "id": "d2659fd7",
   "metadata": {},
   "source": [
    "# upper()"
   ]
  },
  {
   "cell_type": "code",
   "execution_count": 34,
   "id": "e7b5f3a2",
   "metadata": {},
   "outputs": [
    {
     "data": {
      "text/plain": [
       "'PYTHON'"
      ]
     },
     "execution_count": 34,
     "metadata": {},
     "output_type": "execute_result"
    }
   ],
   "source": [
    "s1 = 'python'\n",
    "s1.upper()"
   ]
  },
  {
   "cell_type": "markdown",
   "id": "545d5d92",
   "metadata": {},
   "source": [
    "# split()"
   ]
  },
  {
   "cell_type": "code",
   "execution_count": 35,
   "id": "6df58bb7",
   "metadata": {},
   "outputs": [
    {
     "data": {
      "text/plain": [
       "['This', 'is', 'my', 'string']"
      ]
     },
     "execution_count": 35,
     "metadata": {},
     "output_type": "execute_result"
    }
   ],
   "source": [
    "s11 = 'This is my string'\n",
    "s11.split()"
   ]
  },
  {
   "cell_type": "markdown",
   "id": "9d4861f6",
   "metadata": {},
   "source": [
    "# join()"
   ]
  },
  {
   "cell_type": "code",
   "execution_count": 36,
   "id": "82d7ec9c",
   "metadata": {},
   "outputs": [
    {
     "name": "stdout",
     "output_type": "stream",
     "text": [
      "Hello How are you\n"
     ]
    }
   ],
   "source": [
    "L = ['Hello','How','are','you']\n",
    "s12=' '.join(L)\n",
    "print(s12)"
   ]
  },
  {
   "cell_type": "code",
   "execution_count": 38,
   "id": "13416d03",
   "metadata": {},
   "outputs": [
    {
     "data": {
      "text/plain": [
       "'gnimargorP nohtyP'"
      ]
     },
     "execution_count": 38,
     "metadata": {},
     "output_type": "execute_result"
    }
   ],
   "source": [
    "s = \"Python Programing\"\n",
    "s[::-1]"
   ]
  },
  {
   "cell_type": "markdown",
   "id": "b7cc962c",
   "metadata": {},
   "source": [
    "# join()"
   ]
  },
  {
   "cell_type": "code",
   "execution_count": 1,
   "id": "959ceae8",
   "metadata": {},
   "outputs": [
    {
     "data": {
      "text/plain": [
       "'a good boy'"
      ]
     },
     "execution_count": 1,
     "metadata": {},
     "output_type": "execute_result"
    }
   ],
   "source": [
    "s = ['a','good','boy']\n",
    "' '.join(s)"
   ]
  },
  {
   "cell_type": "code",
   "execution_count": null,
   "id": "9dd1e7d0",
   "metadata": {},
   "outputs": [],
   "source": []
  },
  {
   "cell_type": "code",
   "execution_count": null,
   "id": "e55026b8",
   "metadata": {},
   "outputs": [],
   "source": []
  },
  {
   "cell_type": "code",
   "execution_count": null,
   "id": "4ebdf473",
   "metadata": {},
   "outputs": [],
   "source": []
  },
  {
   "cell_type": "code",
   "execution_count": null,
   "id": "43616d7a",
   "metadata": {},
   "outputs": [],
   "source": []
  }
 ],
 "metadata": {
  "kernelspec": {
   "display_name": "Python 3 (ipykernel)",
   "language": "python",
   "name": "python3"
  },
  "language_info": {
   "codemirror_mode": {
    "name": "ipython",
    "version": 3
   },
   "file_extension": ".py",
   "mimetype": "text/x-python",
   "name": "python",
   "nbconvert_exporter": "python",
   "pygments_lexer": "ipython3",
   "version": "3.10.4"
  }
 },
 "nbformat": 4,
 "nbformat_minor": 5
}
