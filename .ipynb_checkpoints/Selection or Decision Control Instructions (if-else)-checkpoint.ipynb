{
 "cells": [
  {
   "cell_type": "markdown",
   "id": "64a342d7",
   "metadata": {},
   "source": [
    "# Relational Operator"
   ]
  },
  {
   "cell_type": "code",
   "execution_count": null,
   "id": "aa2e2d79",
   "metadata": {},
   "outputs": [],
   "source": [
    "<\n",
    ">\n",
    "<=\n",
    ">=\n",
    "==\n",
    "!="
   ]
  },
  {
   "cell_type": "markdown",
   "id": "97dcc28d",
   "metadata": {},
   "source": [
    "# if statement"
   ]
  },
  {
   "cell_type": "markdown",
   "id": "a0005a58",
   "metadata": {},
   "source": [
    "# Absolute Value of a given number"
   ]
  },
  {
   "cell_type": "code",
   "execution_count": 1,
   "id": "58b88518",
   "metadata": {},
   "outputs": [
    {
     "name": "stdout",
     "output_type": "stream",
     "text": [
      "Enter the number: -9\n",
      "The absolute value is: 9\n"
     ]
    }
   ],
   "source": [
    "n = int(input('Enter the number: '))\n",
    "if n<0:\n",
    "    n=n*-1\n",
    "print('The absolute value is:',n)"
   ]
  },
  {
   "cell_type": "markdown",
   "id": "03cd351c",
   "metadata": {},
   "source": [
    "# Single Suite"
   ]
  },
  {
   "cell_type": "code",
   "execution_count": 2,
   "id": "fd54a523",
   "metadata": {},
   "outputs": [
    {
     "name": "stdout",
     "output_type": "stream",
     "text": [
      "Enter the number: 2\n",
      "Hello\n"
     ]
    }
   ],
   "source": [
    "n = int(input('Enter the number: '))\n",
    "if n<5: print(\"Hello\")"
   ]
  },
  {
   "cell_type": "markdown",
   "id": "3205e694",
   "metadata": {},
   "source": [
    "# if-else statement"
   ]
  },
  {
   "cell_type": "markdown",
   "id": "5669e1a5",
   "metadata": {},
   "source": [
    "# Write a Python program to find whether a given number (accept from the user) is even or odd."
   ]
  },
  {
   "cell_type": "code",
   "execution_count": null,
   "id": "27541b57",
   "metadata": {},
   "outputs": [],
   "source": [
    "n = int(input('Enter the number: '))\n",
    "if n%2==0:\n",
    "    print(\"Even Number\")\n",
    "else:\n",
    "    print(\"Odd Number Number\")"
   ]
  },
  {
   "cell_type": "code",
   "execution_count": null,
   "id": "0abe651f",
   "metadata": {},
   "outputs": [],
   "source": []
  }
 ],
 "metadata": {
  "kernelspec": {
   "display_name": "Python 3 (ipykernel)",
   "language": "python",
   "name": "python3"
  },
  "language_info": {
   "codemirror_mode": {
    "name": "ipython",
    "version": 3
   },
   "file_extension": ".py",
   "mimetype": "text/x-python",
   "name": "python",
   "nbconvert_exporter": "python",
   "pygments_lexer": "ipython3",
   "version": "3.10.4"
  }
 },
 "nbformat": 4,
 "nbformat_minor": 5
}
