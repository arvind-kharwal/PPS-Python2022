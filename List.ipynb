{
 "cells": [
  {
   "cell_type": "markdown",
   "id": "d261fbd2",
   "metadata": {},
   "source": [
    "# List"
   ]
  },
  {
   "cell_type": "code",
   "execution_count": 2,
   "id": "c8e977a6",
   "metadata": {},
   "outputs": [
    {
     "name": "stdout",
     "output_type": "stream",
     "text": [
      "[1, 2, 3, 5, 7.5, 'Arvind']\n"
     ]
    }
   ],
   "source": [
    "L1 = [1,2,3,5,7.5,\"Arvind\"]\n",
    "print(L1)"
   ]
  },
  {
   "cell_type": "markdown",
   "id": "fd12095d",
   "metadata": {},
   "source": [
    "# Empty List"
   ]
  },
  {
   "cell_type": "code",
   "execution_count": 3,
   "id": "ef829f9e",
   "metadata": {},
   "outputs": [
    {
     "name": "stdout",
     "output_type": "stream",
     "text": [
      "[]\n"
     ]
    }
   ],
   "source": [
    "E = []\n",
    "print(E)"
   ]
  },
  {
   "cell_type": "markdown",
   "id": "26ad167c",
   "metadata": {},
   "source": [
    "# List Constructor"
   ]
  },
  {
   "cell_type": "code",
   "execution_count": 5,
   "id": "d63d2b38",
   "metadata": {},
   "outputs": [
    {
     "name": "stdout",
     "output_type": "stream",
     "text": [
      "[1, 3.4, 'Python']\n"
     ]
    }
   ],
   "source": [
    "L2 = list((1,3.4,\"Python\"))\n",
    "print(L2)"
   ]
  },
  {
   "cell_type": "markdown",
   "id": "7d36c442",
   "metadata": {},
   "source": [
    "# Accessing the elements of list"
   ]
  },
  {
   "cell_type": "markdown",
   "id": "2426bfa1",
   "metadata": {},
   "source": [
    "# Indexing"
   ]
  },
  {
   "cell_type": "code",
   "execution_count": 6,
   "id": "7bde04b6",
   "metadata": {},
   "outputs": [
    {
     "data": {
      "text/plain": [
       "1"
      ]
     },
     "execution_count": 6,
     "metadata": {},
     "output_type": "execute_result"
    }
   ],
   "source": [
    "L2[0]"
   ]
  },
  {
   "cell_type": "code",
   "execution_count": 7,
   "id": "432df900",
   "metadata": {},
   "outputs": [
    {
     "data": {
      "text/plain": [
       "'Python'"
      ]
     },
     "execution_count": 7,
     "metadata": {},
     "output_type": "execute_result"
    }
   ],
   "source": [
    "L2[2]"
   ]
  },
  {
   "cell_type": "code",
   "execution_count": 28,
   "id": "56e60552",
   "metadata": {},
   "outputs": [
    {
     "data": {
      "text/plain": [
       "'Python'"
      ]
     },
     "execution_count": 28,
     "metadata": {},
     "output_type": "execute_result"
    }
   ],
   "source": [
    "L2[-1]"
   ]
  },
  {
   "cell_type": "markdown",
   "id": "90bd31a5",
   "metadata": {},
   "source": [
    "# slicing "
   ]
  },
  {
   "cell_type": "code",
   "execution_count": 10,
   "id": "56100eb7",
   "metadata": {},
   "outputs": [
    {
     "data": {
      "text/plain": [
       "[2, 3]"
      ]
     },
     "execution_count": 10,
     "metadata": {},
     "output_type": "execute_result"
    }
   ],
   "source": [
    "L3 = [1,2,3,4,5]\n",
    "L3[1:3]"
   ]
  },
  {
   "cell_type": "code",
   "execution_count": 11,
   "id": "7bc57950",
   "metadata": {},
   "outputs": [
    {
     "data": {
      "text/plain": [
       "[1, 2, 3, 4]"
      ]
     },
     "execution_count": 11,
     "metadata": {},
     "output_type": "execute_result"
    }
   ],
   "source": [
    "L3 = [1,2,3,4,5]\n",
    "L3[:4]"
   ]
  },
  {
   "cell_type": "code",
   "execution_count": 12,
   "id": "7e7f9aa4",
   "metadata": {},
   "outputs": [
    {
     "data": {
      "text/plain": [
       "[4, 5]"
      ]
     },
     "execution_count": 12,
     "metadata": {},
     "output_type": "execute_result"
    }
   ],
   "source": [
    "L3 = [1,2,3,4,5]\n",
    "L3[3:]"
   ]
  },
  {
   "cell_type": "code",
   "execution_count": 31,
   "id": "e9d0a8f4",
   "metadata": {},
   "outputs": [
    {
     "data": {
      "text/plain": [
       "[1, 2, 3, 10, 5, 12, 12, 12]"
      ]
     },
     "execution_count": 31,
     "metadata": {},
     "output_type": "execute_result"
    }
   ],
   "source": [
    "L3[:-1]"
   ]
  },
  {
   "cell_type": "code",
   "execution_count": 32,
   "id": "a05cd045",
   "metadata": {},
   "outputs": [
    {
     "data": {
      "text/plain": [
       "[3, 10, 5, 12, 12, 12]"
      ]
     },
     "execution_count": 32,
     "metadata": {},
     "output_type": "execute_result"
    }
   ],
   "source": [
    "L3[2:-1]"
   ]
  },
  {
   "cell_type": "markdown",
   "id": "11a69bba",
   "metadata": {},
   "source": [
    "# Updating the List"
   ]
  },
  {
   "cell_type": "code",
   "execution_count": 14,
   "id": "233427b9",
   "metadata": {},
   "outputs": [
    {
     "data": {
      "text/plain": [
       "[1, 2, 3, 10, 5]"
      ]
     },
     "execution_count": 14,
     "metadata": {},
     "output_type": "execute_result"
    }
   ],
   "source": [
    "L3[3]=10\n",
    "L3"
   ]
  },
  {
   "cell_type": "markdown",
   "id": "6a28ca18",
   "metadata": {},
   "source": [
    "# append() "
   ]
  },
  {
   "cell_type": "code",
   "execution_count": 18,
   "id": "b3a85a8e",
   "metadata": {},
   "outputs": [
    {
     "name": "stdout",
     "output_type": "stream",
     "text": [
      "[1, 2, 3, 10, 5, 12, 12, 12]\n"
     ]
    }
   ],
   "source": [
    "L3.append(12)\n",
    "print(L3)"
   ]
  },
  {
   "cell_type": "code",
   "execution_count": 19,
   "id": "14936fdf",
   "metadata": {},
   "outputs": [
    {
     "name": "stdout",
     "output_type": "stream",
     "text": [
      "[1, 2, 3, 10, 5, 12, 12, 12, [10, 20]]\n"
     ]
    }
   ],
   "source": [
    "L4 = [10,20]\n",
    "L3.append(L4)\n",
    "print(L3)"
   ]
  },
  {
   "cell_type": "markdown",
   "id": "f48680f0",
   "metadata": {},
   "source": [
    "# extend()"
   ]
  },
  {
   "cell_type": "code",
   "execution_count": 20,
   "id": "72e80a20",
   "metadata": {},
   "outputs": [
    {
     "name": "stdout",
     "output_type": "stream",
     "text": [
      "[1, 2, 3, 5, 7.5, 'Arvind', 10, 20]\n"
     ]
    }
   ],
   "source": [
    "L5 = [10,20]\n",
    "L1.extend(L5)\n",
    "print(L1)"
   ]
  },
  {
   "cell_type": "markdown",
   "id": "f18f3148",
   "metadata": {},
   "source": [
    "# Iterating through loop"
   ]
  },
  {
   "cell_type": "code",
   "execution_count": 22,
   "id": "0fe49b23",
   "metadata": {},
   "outputs": [
    {
     "name": "stdout",
     "output_type": "stream",
     "text": [
      "1 2 3 5 7.5 Arvind 10 20 "
     ]
    }
   ],
   "source": [
    "for i in L1:\n",
    "    print(i,end=' ')"
   ]
  },
  {
   "cell_type": "markdown",
   "id": "ad29af5c",
   "metadata": {},
   "source": [
    "# Membership"
   ]
  },
  {
   "cell_type": "code",
   "execution_count": 23,
   "id": "a50e76f7",
   "metadata": {},
   "outputs": [
    {
     "data": {
      "text/plain": [
       "True"
      ]
     },
     "execution_count": 23,
     "metadata": {},
     "output_type": "execute_result"
    }
   ],
   "source": [
    "1 in L1"
   ]
  },
  {
   "cell_type": "code",
   "execution_count": 24,
   "id": "edd63602",
   "metadata": {},
   "outputs": [
    {
     "data": {
      "text/plain": [
       "False"
      ]
     },
     "execution_count": 24,
     "metadata": {},
     "output_type": "execute_result"
    }
   ],
   "source": [
    "50 in L1"
   ]
  },
  {
   "cell_type": "code",
   "execution_count": 25,
   "id": "7066a2eb",
   "metadata": {},
   "outputs": [
    {
     "data": {
      "text/plain": [
       "True"
      ]
     },
     "execution_count": 25,
     "metadata": {},
     "output_type": "execute_result"
    }
   ],
   "source": [
    "50 not in L1"
   ]
  },
  {
   "cell_type": "markdown",
   "id": "cc5f8906",
   "metadata": {},
   "source": [
    "# Length of list"
   ]
  },
  {
   "cell_type": "code",
   "execution_count": 26,
   "id": "b08e1a3a",
   "metadata": {},
   "outputs": [
    {
     "data": {
      "text/plain": [
       "8"
      ]
     },
     "execution_count": 26,
     "metadata": {},
     "output_type": "execute_result"
    }
   ],
   "source": [
    "len(L1)"
   ]
  },
  {
   "cell_type": "markdown",
   "id": "db3c744f",
   "metadata": {},
   "source": [
    "# Insert()"
   ]
  },
  {
   "cell_type": "code",
   "execution_count": 27,
   "id": "89fe3c90",
   "metadata": {},
   "outputs": [
    {
     "name": "stdout",
     "output_type": "stream",
     "text": [
      "[30, 10]\n"
     ]
    }
   ],
   "source": [
    "L6 = [10]\n",
    "L6.insert(0,30)\n",
    "print(L6)"
   ]
  },
  {
   "cell_type": "code",
   "execution_count": 34,
   "id": "ca62bb7f",
   "metadata": {},
   "outputs": [
    {
     "name": "stdout",
     "output_type": "stream",
     "text": [
      "[30, 'Hello', 'Hello', 10]\n"
     ]
    }
   ],
   "source": [
    "L6.insert(-1,\"Hello\")\n",
    "print(L6)"
   ]
  },
  {
   "cell_type": "markdown",
   "id": "a967fb24",
   "metadata": {},
   "source": [
    "# remove()"
   ]
  },
  {
   "cell_type": "code",
   "execution_count": 35,
   "id": "1857c4eb",
   "metadata": {},
   "outputs": [
    {
     "name": "stdout",
     "output_type": "stream",
     "text": [
      "[30, 'Hello', 10]\n"
     ]
    }
   ],
   "source": [
    "L6.remove('Hello')\n",
    "print(L6)"
   ]
  },
  {
   "cell_type": "markdown",
   "id": "aeb69629",
   "metadata": {},
   "source": [
    "# del()"
   ]
  },
  {
   "cell_type": "code",
   "execution_count": 36,
   "id": "dba024c3",
   "metadata": {},
   "outputs": [
    {
     "name": "stdout",
     "output_type": "stream",
     "text": [
      "[30, 10]\n"
     ]
    }
   ],
   "source": [
    "del(L6[1])\n",
    "print(L6)"
   ]
  },
  {
   "cell_type": "markdown",
   "id": "6de751ed",
   "metadata": {},
   "source": [
    "# clear()"
   ]
  },
  {
   "cell_type": "code",
   "execution_count": 37,
   "id": "ee866938",
   "metadata": {},
   "outputs": [],
   "source": [
    "L6.clear()"
   ]
  },
  {
   "cell_type": "code",
   "execution_count": 38,
   "id": "17ad92c4",
   "metadata": {},
   "outputs": [
    {
     "data": {
      "text/plain": [
       "[]"
      ]
     },
     "execution_count": 38,
     "metadata": {},
     "output_type": "execute_result"
    }
   ],
   "source": [
    "L6"
   ]
  },
  {
   "cell_type": "markdown",
   "id": "9dff82da",
   "metadata": {},
   "source": [
    "# pop()"
   ]
  },
  {
   "cell_type": "code",
   "execution_count": 39,
   "id": "aed462c3",
   "metadata": {},
   "outputs": [
    {
     "data": {
      "text/plain": [
       "'Arvind'"
      ]
     },
     "execution_count": 39,
     "metadata": {},
     "output_type": "execute_result"
    }
   ],
   "source": [
    "L7 = [1,2,3.5,'Arvind']\n",
    "L7.pop()"
   ]
  },
  {
   "cell_type": "code",
   "execution_count": 40,
   "id": "bc52f0a8",
   "metadata": {},
   "outputs": [
    {
     "data": {
      "text/plain": [
       "[1, 2, 3.5]"
      ]
     },
     "execution_count": 40,
     "metadata": {},
     "output_type": "execute_result"
    }
   ],
   "source": [
    "L7"
   ]
  },
  {
   "cell_type": "markdown",
   "id": "0aa83ead",
   "metadata": {},
   "source": [
    "# count()"
   ]
  },
  {
   "cell_type": "code",
   "execution_count": 41,
   "id": "5e9f4111",
   "metadata": {},
   "outputs": [
    {
     "data": {
      "text/plain": [
       "5"
      ]
     },
     "execution_count": 41,
     "metadata": {},
     "output_type": "execute_result"
    }
   ],
   "source": [
    "L8 = [1,2,3,3,3,3,3,4,5]\n",
    "L8.count(3)"
   ]
  },
  {
   "cell_type": "markdown",
   "id": "17258b69",
   "metadata": {},
   "source": [
    "# sort()"
   ]
  },
  {
   "cell_type": "code",
   "execution_count": 42,
   "id": "d1d1c130",
   "metadata": {},
   "outputs": [],
   "source": [
    "L9 = [12,2,33,3,13,36,39,4,5]\n",
    "L9.sort()\n"
   ]
  },
  {
   "cell_type": "code",
   "execution_count": 43,
   "id": "595edd30",
   "metadata": {},
   "outputs": [
    {
     "name": "stdout",
     "output_type": "stream",
     "text": [
      "[2, 3, 4, 5, 12, 13, 33, 36, 39]\n"
     ]
    }
   ],
   "source": [
    "print(L9)"
   ]
  },
  {
   "cell_type": "code",
   "execution_count": 47,
   "id": "149d6b46",
   "metadata": {},
   "outputs": [],
   "source": [
    "L9.sort(reverse=True)"
   ]
  },
  {
   "cell_type": "code",
   "execution_count": 48,
   "id": "763cf04d",
   "metadata": {},
   "outputs": [
    {
     "data": {
      "text/plain": [
       "[39, 36, 33, 13, 12, 5, 4, 3, 2]"
      ]
     },
     "execution_count": 48,
     "metadata": {},
     "output_type": "execute_result"
    }
   ],
   "source": [
    "L9"
   ]
  },
  {
   "cell_type": "markdown",
   "id": "02cc2579",
   "metadata": {},
   "source": [
    "# reverse()"
   ]
  },
  {
   "cell_type": "code",
   "execution_count": 44,
   "id": "f6d511d3",
   "metadata": {},
   "outputs": [],
   "source": [
    "L9.reverse()"
   ]
  },
  {
   "cell_type": "code",
   "execution_count": 45,
   "id": "7b583220",
   "metadata": {},
   "outputs": [
    {
     "data": {
      "text/plain": [
       "[39, 36, 33, 13, 12, 5, 4, 3, 2]"
      ]
     },
     "execution_count": 45,
     "metadata": {},
     "output_type": "execute_result"
    }
   ],
   "source": [
    "L9"
   ]
  },
  {
   "cell_type": "markdown",
   "id": "f4e83a03",
   "metadata": {},
   "source": [
    "# index()"
   ]
  },
  {
   "cell_type": "code",
   "execution_count": 46,
   "id": "c0cf9be1",
   "metadata": {},
   "outputs": [
    {
     "data": {
      "text/plain": [
       "3"
      ]
     },
     "execution_count": 46,
     "metadata": {},
     "output_type": "execute_result"
    }
   ],
   "source": [
    "L9.index(13)"
   ]
  },
  {
   "cell_type": "markdown",
   "id": "b069b4bc",
   "metadata": {},
   "source": [
    "# Input from the user"
   ]
  },
  {
   "cell_type": "code",
   "execution_count": 49,
   "id": "3ac4c14c",
   "metadata": {},
   "outputs": [
    {
     "name": "stdout",
     "output_type": "stream",
     "text": [
      "Enter the elements: 1\n",
      "Enter the elements: 2\n",
      "Enter the elements: 34\n",
      "Enter the elements: 56\n",
      "Enter the elements: 67\n",
      "The elements are:  [1, 2, 34, 56, 67]\n"
     ]
    }
   ],
   "source": [
    "L = []\n",
    "for i in range(5):\n",
    "    i = int(input('Enter the elements: '))\n",
    "    L.append(i)\n",
    "    \n",
    "print('The elements are: ',L)"
   ]
  },
  {
   "cell_type": "code",
   "execution_count": 53,
   "id": "acd1cb9d",
   "metadata": {},
   "outputs": [
    {
     "name": "stdout",
     "output_type": "stream",
     "text": [
      "How many elements do you want to enter?3\n",
      "Enter the elements: 1\n",
      "Enter the elements: 4\n",
      "Enter the elements: 7\n",
      "The elements are:  [1, 4, 7]\n"
     ]
    }
   ],
   "source": [
    "L = []\n",
    "n = int(input('How many elements do you want to enter?'))\n",
    "for i in range(n):\n",
    "    i = int(input('Enter the elements: '))\n",
    "    L.append(i)\n",
    "    \n",
    "print('The elements are: ',L)"
   ]
  },
  {
   "cell_type": "code",
   "execution_count": 50,
   "id": "06476841",
   "metadata": {},
   "outputs": [
    {
     "name": "stdout",
     "output_type": "stream",
     "text": [
      "Sunday\n",
      "Monday\n",
      "Tuesday\n",
      "Wednesday\n",
      "Thursday\n",
      "Friday\n",
      "Saturday\n"
     ]
    }
   ],
   "source": [
    "days = ['Sunday','Monday','Tuesday','Wednesday','Thursday','Friday','Saturday']\n",
    "for i in days:\n",
    "    print(i)"
   ]
  },
  {
   "cell_type": "code",
   "execution_count": 51,
   "id": "6ebbe2ca",
   "metadata": {},
   "outputs": [
    {
     "name": "stdout",
     "output_type": "stream",
     "text": [
      "0 Sunday\n",
      "1 Monday\n",
      "2 Tuesday\n",
      "3 Wednesday\n",
      "4 Thursday\n",
      "5 Friday\n",
      "6 Saturday\n"
     ]
    }
   ],
   "source": [
    "days = ['Sunday','Monday','Tuesday','Wednesday','Thursday','Friday','Saturday']\n",
    "for i,j in enumerate(days):\n",
    "    print(i,j)"
   ]
  },
  {
   "cell_type": "code",
   "execution_count": 52,
   "id": "524d1a5f",
   "metadata": {},
   "outputs": [
    {
     "name": "stdout",
     "output_type": "stream",
     "text": [
      "1 Sunday\n",
      "2 Monday\n",
      "3 Tuesday\n",
      "4 Wednesday\n",
      "5 Thursday\n",
      "6 Friday\n",
      "7 Saturday\n"
     ]
    }
   ],
   "source": [
    "days = ['Sunday','Monday','Tuesday','Wednesday','Thursday','Friday','Saturday']\n",
    "for i,j in enumerate(days,start=1):\n",
    "    print(i,j)"
   ]
  },
  {
   "cell_type": "markdown",
   "id": "1e58c0d7",
   "metadata": {},
   "source": [
    "# List Comprenhesive "
   ]
  },
  {
   "cell_type": "code",
   "execution_count": 55,
   "id": "64b1dda7",
   "metadata": {},
   "outputs": [
    {
     "data": {
      "text/plain": [
       "[1, 2, 3, 4, 5, 6, 7, 8, 9, 10]"
      ]
     },
     "execution_count": 55,
     "metadata": {},
     "output_type": "execute_result"
    }
   ],
   "source": [
    "[i for i in range(1,11)]"
   ]
  },
  {
   "cell_type": "code",
   "execution_count": 57,
   "id": "5d83742a",
   "metadata": {},
   "outputs": [
    {
     "name": "stdout",
     "output_type": "stream",
     "text": [
      "[3, 6, 9, 12, 15, 18, 21, 24, 27, 30]\n"
     ]
    }
   ],
   "source": [
    "table = [3 * i for i in range(1,11)]\n",
    "print(table)"
   ]
  },
  {
   "cell_type": "code",
   "execution_count": 58,
   "id": "01dd3e7d",
   "metadata": {},
   "outputs": [
    {
     "name": "stdout",
     "output_type": "stream",
     "text": [
      "[1, 2, 3, 4, 5, 6, 7, 8, 9, 10]\n",
      "[2, 4, 6, 8, 10, 12, 14, 16, 18, 20]\n",
      "[3, 6, 9, 12, 15, 18, 21, 24, 27, 30]\n",
      "[4, 8, 12, 16, 20, 24, 28, 32, 36, 40]\n",
      "[5, 10, 15, 20, 25, 30, 35, 40, 45, 50]\n",
      "[6, 12, 18, 24, 30, 36, 42, 48, 54, 60]\n",
      "[7, 14, 21, 28, 35, 42, 49, 56, 63, 70]\n",
      "[8, 16, 24, 32, 40, 48, 56, 64, 72, 80]\n",
      "[9, 18, 27, 36, 45, 54, 63, 72, 81, 90]\n",
      "[10, 20, 30, 40, 50, 60, 70, 80, 90, 100]\n"
     ]
    }
   ],
   "source": [
    "for k in range(1,11):\n",
    "    print([k * i for i in range(1,11)])"
   ]
  },
  {
   "cell_type": "markdown",
   "id": "0aa6f392",
   "metadata": {},
   "source": [
    "# Sort the name entered through the keyboard"
   ]
  },
  {
   "cell_type": "code",
   "execution_count": 59,
   "id": "c6872c2f",
   "metadata": {},
   "outputs": [
    {
     "name": "stdout",
     "output_type": "stream",
     "text": [
      "Enter the name:arvind\n",
      "Enter the name:amit\n",
      "Enter the name:ravi\n",
      "Enter the name:neeraj\n",
      "Enter the name:laxman\n",
      "The entered names are: ['arvind', 'amit', 'ravi', 'neeraj', 'laxman']\n",
      "The sorted names are ['amit', 'arvind', 'laxman', 'neeraj', 'ravi']\n"
     ]
    }
   ],
   "source": [
    "names = []\n",
    "for i in range(5):\n",
    "    n = input('Enter the name:')\n",
    "    names.append(n)\n",
    "    \n",
    "print('The entered names are:',names)\n",
    "names.sort()\n",
    "print('The sorted names are',names)"
   ]
  },
  {
   "cell_type": "code",
   "execution_count": 60,
   "id": "6a7cb5aa",
   "metadata": {},
   "outputs": [
    {
     "name": "stdout",
     "output_type": "stream",
     "text": [
      "Enter the names:arvind\n",
      "Enter the Marks:89\n",
      "Enter the names:amit\n",
      "Enter the Marks:87\n",
      "The highest marks are 89\n",
      "The lowest marks are 87\n",
      "student having highest marks is arvind\n",
      "student having lowesst marks is amit\n"
     ]
    }
   ],
   "source": [
    "names=[]\n",
    "marks=[]\n",
    "for i in range(2):\n",
    "    n=input('Enter the names:')\n",
    "    m=int(input('Enter the Marks:'))\n",
    "    names.append(n)\n",
    "    marks.append(m)\n",
    "    \n",
    "h=max(marks)\n",
    "l=min(marks)\n",
    "print('The highest marks are',h)\n",
    "print('The lowest marks are',l)\n",
    "for i in range(2):\n",
    "    if h==marks[i]:\n",
    "        print('student having highest marks is',names[i])\n",
    "    if l==marks[i]:\n",
    "        print('student having lowesst marks is',names[i])"
   ]
  },
  {
   "cell_type": "code",
   "execution_count": 61,
   "id": "bc2bb031",
   "metadata": {},
   "outputs": [
    {
     "name": "stdout",
     "output_type": "stream",
     "text": [
      "Enter the number:1\n",
      "1 is present in the list and it is available 1 times\n"
     ]
    }
   ],
   "source": [
    "L = [1,2,23,45,50,2,2,100]\n",
    "n = int(input('Enter the number:'))\n",
    "if n in L:\n",
    "    print(n,'is present in the list and it is available',L.count(n),'times')"
   ]
  },
  {
   "cell_type": "code",
   "execution_count": 62,
   "id": "068a1b8d",
   "metadata": {},
   "outputs": [
    {
     "name": "stdout",
     "output_type": "stream",
     "text": [
      "A\n",
      "Ar\n",
      "Arv\n",
      "Arvi\n",
      "Arvin\n",
      "Arvind\n"
     ]
    }
   ],
   "source": [
    "word = \"Arvind\"\n",
    "x =''\n",
    "for i in word:\n",
    "    x = x+i\n",
    "    print(x)"
   ]
  },
  {
   "cell_type": "code",
   "execution_count": null,
   "id": "6a8f252e",
   "metadata": {},
   "outputs": [],
   "source": []
  }
 ],
 "metadata": {
  "kernelspec": {
   "display_name": "Python 3 (ipykernel)",
   "language": "python",
   "name": "python3"
  },
  "language_info": {
   "codemirror_mode": {
    "name": "ipython",
    "version": 3
   },
   "file_extension": ".py",
   "mimetype": "text/x-python",
   "name": "python",
   "nbconvert_exporter": "python",
   "pygments_lexer": "ipython3",
   "version": "3.10.4"
  }
 },
 "nbformat": 4,
 "nbformat_minor": 5
}
